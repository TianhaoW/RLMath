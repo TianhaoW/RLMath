{
 "cells": [
  {
   "cell_type": "markdown",
   "id": "11cb6d5b",
   "metadata": {},
   "source": [
    "## Idea\n",
    "\n",
    "Decay the number_of_searches as valid_moves being less.\n",
    "\n",
    "How to create 8 congruent-state child node at each expansion?\n",
    "\n",
    "## Changes in 02_2\n",
    "\n",
    "Adapt new terminal condition and get valid moves methods from 06_3 version. You can notice the iteration time is decreasing at the output of last code block."
   ]
  },
  {
   "cell_type": "code",
   "execution_count": 1,
   "id": "a383a4c0",
   "metadata": {},
   "outputs": [
    {
     "name": "stdout",
     "output_type": "stream",
     "text": [
      "1.26.4\n"
     ]
    }
   ],
   "source": [
    "import numpy as np\n",
    "print(np.__version__)\n",
    "np.random.seed(0)\n",
    "\n",
    "import math\n",
    "from itertools import combinations\n",
    "import matplotlib.pyplot as plt\n",
    "from tqdm.notebook import trange\n",
    "import random\n",
    "\n",
    "from numba import njit\n",
    "import time\n",
    "\n",
    "# JIT-compiled function to check if three points are collinear\n",
    "@njit(cache=True)\n",
    "def are_collinear(p1, p2, p3):\n",
    "    \"\"\"Returns True if the three points are collinear.\"\"\"\n",
    "    \"\"\"Adapt from https://github.com/kitft/funsearch\"\"\"\n",
    "    x1, y1 = p1\n",
    "    x2, y2 = p2\n",
    "    x3, y3 = p3\n",
    "    return (y1 - y2) * (x1 - x3) == (y1 - y3) * (x1 - x2)\n",
    "\n",
    "class N3il:  # Class for the No-Three-In-Line problem\n",
    "    def __init__(self, grid_size):\n",
    "        self.row_count = grid_size[0]\n",
    "        self.column_count = grid_size[1]\n",
    "        self.pts_upper_bound = np.min(grid_size)*2\n",
    "        self.action_size = self.row_count * self.column_count\n",
    "\n",
    "    def get_initial_state(self):\n",
    "        # Return a grid of zeros representing an empty board\n",
    "        return np.zeros((self.row_count, self.column_count))\n",
    "\n",
    "    def get_next_state(self, state, action):\n",
    "        # Place a point at the specified action (row-major order)\n",
    "        row = action // self.column_count\n",
    "        column = action % self.column_count\n",
    "        state[row, column] = 1\n",
    "        return state\n",
    "\n",
    "    def get_valid_moves(self, state):\n",
    "        \"\"\"\n",
    "        Return a flattened array where 1 indicates a valid move (empty and no collinearity),\n",
    "        and 0 indicates an invalid move.\n",
    "        \"\"\"\n",
    "        valid_mask = np.zeros((self.row_count, self.column_count), dtype=np.uint8)  # start with all invalid\n",
    "        coords = np.argwhere(state == 1)\n",
    "        existing_pairs = list(combinations(coords, 2))\n",
    "\n",
    "        for i in range(self.row_count):\n",
    "            for j in range(self.column_count):\n",
    "                if state[i, j] != 0:\n",
    "                    continue\n",
    "                candidate = (i, j)\n",
    "                if any(are_collinear(p1, p2, candidate) for p1, p2 in existing_pairs):\n",
    "                    continue\n",
    "                valid_mask[i, j] = 1  # 1 means valid\n",
    "\n",
    "        return valid_mask.reshape(-1)\n",
    "\n",
    "    def get_valid_moves_subset(self, parent_state, parent_valid_moves, action_taken):\n",
    "        \"\"\"\n",
    "        Given a parent state and its valid move mask, return a refined valid move mask for the child:\n",
    "        1) Remove the action just taken.\n",
    "        2) For each remaining valid move, check if it forms a collinear triple with the new point and any existing point.\n",
    "        Returns a flattened uint8 array: 1 = valid, 0 = invalid.\n",
    "        \"\"\"\n",
    "        valid = parent_valid_moves.copy()\n",
    "        valid[action_taken] = 0  # Remove the move just taken\n",
    "\n",
    "        # Get all existing points from the parent state\n",
    "        existing_points = [tuple(pt) for pt in np.argwhere(parent_state == 1)]\n",
    "\n",
    "        # Get the coordinates of the new point that was just played\n",
    "        new_row = action_taken // self.column_count\n",
    "        new_col = action_taken % self.column_count\n",
    "        new_point = (new_row, new_col)\n",
    "\n",
    "        # For each candidate move that is still marked valid\n",
    "        for act in np.where(valid == 1)[0]:\n",
    "            cand_row = act // self.column_count\n",
    "            cand_col = act % self.column_count\n",
    "            candidate = (cand_row, cand_col)\n",
    "\n",
    "            # Check collinearity with the new point and any existing point\n",
    "            for pt in existing_points:\n",
    "                if are_collinear(pt, new_point, candidate):\n",
    "                    valid[act] = 0  # Mark invalid\n",
    "                    break\n",
    "\n",
    "        return valid  # 1D array (flattened)\n",
    "\n",
    "    def check_collinear(self, state, action=None):\n",
    "        # Check how many new collinear triples are formed by adding a new point\n",
    "\n",
    "        if action is None:\n",
    "            state_next = state\n",
    "        else:\n",
    "            row = action // self.column_count\n",
    "            column = action % self.column_count\n",
    "            state_next = state.copy()\n",
    "            state_next[row, column] = 1\n",
    "\n",
    "        coords = np.argwhere(state_next == 1)\n",
    "        triples = list(combinations(coords, 3))\n",
    "\n",
    "        number_of_collinear_triples = 0\n",
    "        for triple in triples:\n",
    "            if are_collinear(triple[0], triple[1], triple[2]):\n",
    "                number_of_collinear_triples += 1\n",
    "\n",
    "        return number_of_collinear_triples\n",
    "\n",
    "    def get_value_and_terminated(self, state, valid_moves):\n",
    "        # Return total number of points and whether a terminal condition is met\n",
    "        if np.sum(valid_moves) > 0:\n",
    "            return 0, False\n",
    "        value = np.sum(state.reshape(-1) == 1) / self.pts_upper_bound # Normalization\n",
    "        return value, True\n",
    "    \n",
    "    def get_encoded_state(self, state):\n",
    "        encoded_state = np.stack(\n",
    "            (state == 0, state == 1)\n",
    "        ).astype(np.float32)\n",
    "        \n",
    "        return encoded_state\n",
    "\n",
    "    def display_state(self, state, action_prob=None):\n",
    "        \"\"\"\n",
    "        Display the current grid configuration using matplotlib.\n",
    "        Points are drawn where the state equals 1.\n",
    "        The origin (0, 0) is located at the bottom-left.\n",
    "        If action_prob is provided (1D array), it is reshaped and overlaid as a heatmap.\n",
    "        \"\"\"\n",
    "        plt.figure(figsize=(12, 12))\n",
    "        ax = plt.gca()\n",
    "\n",
    "        if action_prob is not None:\n",
    "            assert action_prob.shape[0] == self.row_count * self.column_count, \\\n",
    "                f\"Expected length {self.row_count * self.column_count}, got {len(action_prob)}\"\n",
    "            action_prob_2d = action_prob.reshape((self.row_count, self.column_count))\n",
    "            flipped_probs = np.flipud(action_prob_2d)\n",
    "\n",
    "            im = ax.imshow(\n",
    "                flipped_probs,\n",
    "                cmap='Reds',\n",
    "                alpha=0.6,\n",
    "                extent=[-0.5, self.column_count - 0.5, -0.5, self.row_count - 0.5],\n",
    "                origin='lower',\n",
    "                vmin=0, vmax=np.max(action_prob) if np.max(action_prob) > 0 else 1e-5\n",
    "            )\n",
    "            plt.colorbar(im, label=\"Action Probability\", shrink=0.8)\n",
    "\n",
    "            # Find maximum probability\n",
    "            max_val = np.max(action_prob_2d)\n",
    "            max_positions = np.argwhere(action_prob_2d == max_val)\n",
    "\n",
    "            # Add text annotations for probabilities\n",
    "            for i in range(self.row_count):\n",
    "                for j in range(self.column_count):\n",
    "                    val = action_prob_2d[i, j]\n",
    "                    display_y = self.row_count - 1 - i  # Flip vertically\n",
    "                    is_max = any((i == mp[0] and j == mp[1]) for mp in max_positions)\n",
    "                    ax.text(\n",
    "                        j, display_y, f\"{val:.3f}\",\n",
    "                        ha=\"center\", va=\"center\",\n",
    "                        color=\"gold\" if is_max else (\"black\" if val < 0.5 * max_val else \"white\"),\n",
    "                        weight='bold' if is_max else 'normal'\n",
    "                    )\n",
    "\n",
    "        # Plot placed points\n",
    "        y_coords, x_coords = np.nonzero(state)\n",
    "        flipped_y = self.row_count - 1 - y_coords\n",
    "        plt.scatter(x_coords, flipped_y, s=100, c='blue', label='Placed Points')\n",
    "\n",
    "        plt.grid(True)\n",
    "        plt.xticks(range(self.column_count))\n",
    "        plt.yticks(range(self.row_count))\n",
    "        plt.xlim(-0.5, self.column_count - 0.5)\n",
    "        plt.ylim(-0.5, self.row_count - 0.5)\n",
    "        ax.set_aspect('equal')\n",
    "        plt.title(\"No-Three-In-Line Grid with Action Probabilities\" if action_prob is not None else \"No-Three-In-Line Grid\")\n",
    "        plt.show()\n",
    "\n",
    "\n",
    "\n",
    "'''\n",
    "Adapt from\n",
    "foersterrobert/AlphaZeroFromScratch\n",
    "'''\n",
    "\n",
    "class Node:\n",
    "    def __init__(self, game, args, state, parent=None, action_taken=None):\n",
    "        self.game = game\n",
    "        self.args = args\n",
    "        self.state = state\n",
    "        self.parent = parent\n",
    "        self.action_taken = action_taken\n",
    "\n",
    "        self.children = []\n",
    "        # self.expandable_moves = game.get_valid_moves(state)\n",
    "\n",
    "        self.visit_count = 0\n",
    "        self.value_sum = 0\n",
    "\n",
    "        if parent is None:\n",
    "            self.valid_moves = game.get_valid_moves(state)\n",
    "        else:\n",
    "            self.valid_moves = game.get_valid_moves_subset(\n",
    "                parent.state, parent.valid_moves, self.action_taken)\n",
    "\n",
    "    def is_fully_expanded(self):\n",
    "        return np.sum(self.valid_moves) == 0 and len(self.children) > 0\n",
    "    \n",
    "    def select(self):\n",
    "        best_child = None\n",
    "        best_ucb = -np.inf\n",
    "\n",
    "        for child in self.children:\n",
    "            ucb= self.get_ucb(child)\n",
    "            if ucb > best_ucb:\n",
    "                best_child = child\n",
    "                best_ucb = ucb\n",
    "        \n",
    "        return best_child\n",
    "    \n",
    "    def get_ucb(self, child):\n",
    "        q_value = child.value_sum / child.visit_count\n",
    "        return q_value + self.args['C'] * math.sqrt(math.log(self.visit_count) / child.visit_count)\n",
    "\n",
    "    def expand(self):\n",
    "        action = np.random.choice(np.where(self.valid_moves == 1)[0])\n",
    "        self.valid_moves[action] = 0\n",
    "\n",
    "        child_state = self.state.copy()\n",
    "        child_state = self.game.get_next_state(child_state, action)\n",
    "\n",
    "        child = Node(self.game, self.args, child_state, self, action)\n",
    "        self.children.append(child)\n",
    "        return child\n",
    "    \n",
    "    def simulate(self):\n",
    "        # has_collinear = self.game.check_collinear(self.parent.state, self.action_taken)\n",
    "        value, is_terminal = self.game.get_value_and_terminated(self.state, self.valid_moves)\n",
    "\n",
    "        if is_terminal:\n",
    "            # value, _ = self.game.get_value_and_terminated(self.parent.state)\n",
    "            return value\n",
    "            # return 0 # think about this part\n",
    "        \n",
    "        rollout_state = self.state.copy()\n",
    "\n",
    "        while True:\n",
    "            valid_moves = self.game.get_valid_moves(rollout_state)\n",
    "            value, is_terminal = self.game.get_value_and_terminated(rollout_state, valid_moves)\n",
    "            if is_terminal:\n",
    "                # value, _ = self.game.get_value_and_terminated(rollout_state, valid_moves)\n",
    "                return value\n",
    "            action = np.random.choice(np.where(valid_moves == 1)[0])\n",
    "\n",
    "            rollout_state = self.game.get_next_state(rollout_state, action)\n",
    "\n",
    "    def backpropagate(self, value):\n",
    "        self.value_sum += value\n",
    "        self.visit_count += 1\n",
    "\n",
    "        if self.parent is not None:\n",
    "            self.parent.backpropagate(value)\n",
    "\n",
    "class MCTS:\n",
    "    def __init__(self, game, args={\n",
    "        'num_searches': 1000,\n",
    "        'C': 1.4\n",
    "    }):\n",
    "        self.game = game\n",
    "        self.args = args\n",
    "\n",
    "    def search(self, state):\n",
    "        # define root\n",
    "        root = Node(self.game, self.args, state)\n",
    "\n",
    "        for search in trange(self.args['num_searches']):\n",
    "            node = root\n",
    "\n",
    "            # selection\n",
    "            while node.is_fully_expanded():\n",
    "                node = node.select()\n",
    "\n",
    "            if node.action_taken is not None:\n",
    "                value, is_terminal = self.game.get_value_and_terminated(node.state, node.valid_moves)\n",
    "                # has_collinear = self.game.check_collinear(node.state, node.action_taken)\n",
    "                # value, _ = self.game.get_value_and_terminated(node.state)\n",
    "\n",
    "                if not is_terminal:\n",
    "                    node = node.expand()\n",
    "                    value = node.simulate()\n",
    "            else:\n",
    "                node = node.expand()\n",
    "                value = node.simulate()\n",
    "\n",
    "            node.backpropagate(value)\n",
    "\n",
    "        action_probs = np.zeros(self.game.action_size)\n",
    "        for child in root.children:\n",
    "            action_probs[child.action_taken] = child.visit_count\n",
    "        action_probs /= np.sum(action_probs)\n",
    "        return action_probs\n",
    "            \n",
    "            # expansion\n",
    "            # simulation\n",
    "            # backpropagation\n",
    "\n",
    "        # return visit_counts\n",
    "\n",
    "def select_outermost_with_tiebreaker(mcts_probs, n):\n",
    "    \"\"\"Select an action from the outermost positions with highest probability.\"\"\"\n",
    "    mcts_probs_2d = mcts_probs.reshape((n, n))\n",
    "    max_val = np.max(mcts_probs_2d)\n",
    "    max_indices = np.argwhere(mcts_probs_2d == max_val)\n",
    "\n",
    "    def edge_distance(i, j):\n",
    "        return min(i, n - 1 - i, j, n - 1 - j)\n",
    "\n",
    "    distances = [edge_distance(i, j) for i, j in max_indices]\n",
    "    min_dist = min(distances)\n",
    "\n",
    "    outermost_positions = [pos for pos, dist in zip(max_indices, distances) if dist == min_dist]\n",
    "    chosen_pos = outermost_positions[np.random.choice(len(outermost_positions))]\n",
    "    action = chosen_pos[0] * n + chosen_pos[1]\n",
    "    return action\n",
    "\n",
    "def evaluate(args):\n",
    "    start = time.time()\n",
    "    n = args['n']\n",
    "    n3il = N3il(grid_size=(n, n))\n",
    "\n",
    "    mcts = MCTS(n3il, args)\n",
    "\n",
    "    state = n3il.get_initial_state()\n",
    "    num_of_points = 0\n",
    "\n",
    "    while True:\n",
    "        print(\"---------------------------\")\n",
    "        print(f\"Number of points: {num_of_points}\")\n",
    "        print(state)\n",
    "\n",
    "        valid_moves = n3il.get_valid_moves(state)\n",
    "        value, is_terminal = n3il.get_value_and_terminated(state, valid_moves)\n",
    "\n",
    "        if is_terminal:\n",
    "            print(\"*******************************************************************\")\n",
    "            print(f\"Trial Terminated with {num_of_points} points. Final valid configuration:\")\n",
    "            print(state)\n",
    "            n3il.display_state(state, mcts_probs)\n",
    "            end = time.time()\n",
    "            print(f\"Time: {end - start:.6f} sec\")\n",
    "            break\n",
    "\n",
    "        # Get MCTS probabilities\n",
    "        mcts_probs = mcts.search(state)\n",
    "\n",
    "        # Use outermost-priority selector to pick action\n",
    "        action = select_outermost_with_tiebreaker(mcts_probs, n)\n",
    "\n",
    "        # Display MCTS probabilities and board\n",
    "        # n3il.display_state(state, mcts_probs)\n",
    "\n",
    "        # Apply action\n",
    "        num_of_points += 1\n",
    "        state = n3il.get_next_state(state, action)\n"
   ]
  },
  {
   "cell_type": "code",
   "execution_count": 2,
   "id": "6822b77a",
   "metadata": {},
   "outputs": [
    {
     "name": "stdout",
     "output_type": "stream",
     "text": [
      "---------------------------\n",
      "Number of points: 0\n",
      "[[0. 0. 0. 0. 0. 0. 0. 0. 0. 0.]\n",
      " [0. 0. 0. 0. 0. 0. 0. 0. 0. 0.]\n",
      " [0. 0. 0. 0. 0. 0. 0. 0. 0. 0.]\n",
      " [0. 0. 0. 0. 0. 0. 0. 0. 0. 0.]\n",
      " [0. 0. 0. 0. 0. 0. 0. 0. 0. 0.]\n",
      " [0. 0. 0. 0. 0. 0. 0. 0. 0. 0.]\n",
      " [0. 0. 0. 0. 0. 0. 0. 0. 0. 0.]\n",
      " [0. 0. 0. 0. 0. 0. 0. 0. 0. 0.]\n",
      " [0. 0. 0. 0. 0. 0. 0. 0. 0. 0.]\n",
      " [0. 0. 0. 0. 0. 0. 0. 0. 0. 0.]]\n"
     ]
    },
    {
     "data": {
      "application/vnd.jupyter.widget-view+json": {
       "model_id": "7848a34e49de461d8ccb3aa9eb47e704",
       "version_major": 2,
       "version_minor": 0
      },
      "text/plain": [
       "  0%|          | 0/1000 [00:00<?, ?it/s]"
      ]
     },
     "metadata": {},
     "output_type": "display_data"
    },
    {
     "name": "stdout",
     "output_type": "stream",
     "text": [
      "---------------------------\n",
      "Number of points: 1\n",
      "[[0. 0. 0. 0. 0. 0. 0. 0. 0. 0.]\n",
      " [0. 0. 0. 0. 0. 0. 0. 0. 0. 0.]\n",
      " [0. 0. 0. 0. 0. 0. 0. 0. 0. 0.]\n",
      " [1. 0. 0. 0. 0. 0. 0. 0. 0. 0.]\n",
      " [0. 0. 0. 0. 0. 0. 0. 0. 0. 0.]\n",
      " [0. 0. 0. 0. 0. 0. 0. 0. 0. 0.]\n",
      " [0. 0. 0. 0. 0. 0. 0. 0. 0. 0.]\n",
      " [0. 0. 0. 0. 0. 0. 0. 0. 0. 0.]\n",
      " [0. 0. 0. 0. 0. 0. 0. 0. 0. 0.]\n",
      " [0. 0. 0. 0. 0. 0. 0. 0. 0. 0.]]\n"
     ]
    },
    {
     "data": {
      "application/vnd.jupyter.widget-view+json": {
       "model_id": "783203ae149a40feb0bab2c652391eed",
       "version_major": 2,
       "version_minor": 0
      },
      "text/plain": [
       "  0%|          | 0/1000 [00:00<?, ?it/s]"
      ]
     },
     "metadata": {},
     "output_type": "display_data"
    },
    {
     "name": "stdout",
     "output_type": "stream",
     "text": [
      "---------------------------\n",
      "Number of points: 2\n",
      "[[0. 0. 0. 0. 0. 0. 0. 0. 0. 0.]\n",
      " [0. 0. 0. 0. 0. 0. 0. 0. 0. 0.]\n",
      " [0. 0. 0. 0. 0. 0. 0. 0. 0. 0.]\n",
      " [1. 0. 0. 0. 0. 0. 0. 0. 0. 0.]\n",
      " [0. 0. 0. 0. 0. 0. 0. 0. 0. 0.]\n",
      " [0. 0. 0. 0. 0. 0. 0. 0. 0. 1.]\n",
      " [0. 0. 0. 0. 0. 0. 0. 0. 0. 0.]\n",
      " [0. 0. 0. 0. 0. 0. 0. 0. 0. 0.]\n",
      " [0. 0. 0. 0. 0. 0. 0. 0. 0. 0.]\n",
      " [0. 0. 0. 0. 0. 0. 0. 0. 0. 0.]]\n"
     ]
    },
    {
     "data": {
      "application/vnd.jupyter.widget-view+json": {
       "model_id": "4603749b17584d728454037f37609824",
       "version_major": 2,
       "version_minor": 0
      },
      "text/plain": [
       "  0%|          | 0/1000 [00:00<?, ?it/s]"
      ]
     },
     "metadata": {},
     "output_type": "display_data"
    },
    {
     "name": "stdout",
     "output_type": "stream",
     "text": [
      "---------------------------\n",
      "Number of points: 3\n",
      "[[0. 0. 0. 0. 0. 0. 0. 0. 0. 0.]\n",
      " [0. 0. 0. 0. 0. 0. 0. 0. 0. 0.]\n",
      " [0. 0. 0. 0. 0. 0. 0. 0. 0. 0.]\n",
      " [1. 0. 0. 0. 0. 0. 0. 0. 0. 0.]\n",
      " [0. 0. 0. 0. 0. 0. 0. 0. 0. 0.]\n",
      " [0. 0. 0. 0. 0. 0. 0. 0. 0. 1.]\n",
      " [0. 0. 0. 0. 0. 0. 0. 0. 0. 0.]\n",
      " [0. 0. 0. 0. 0. 0. 0. 0. 0. 0.]\n",
      " [0. 0. 0. 0. 0. 0. 0. 0. 0. 0.]\n",
      " [0. 0. 0. 1. 0. 0. 0. 0. 0. 0.]]\n"
     ]
    },
    {
     "data": {
      "application/vnd.jupyter.widget-view+json": {
       "model_id": "a1bdfd6f549c4666bc86920af0195654",
       "version_major": 2,
       "version_minor": 0
      },
      "text/plain": [
       "  0%|          | 0/1000 [00:00<?, ?it/s]"
      ]
     },
     "metadata": {},
     "output_type": "display_data"
    },
    {
     "name": "stdout",
     "output_type": "stream",
     "text": [
      "---------------------------\n",
      "Number of points: 4\n",
      "[[0. 0. 0. 0. 0. 0. 0. 0. 0. 0.]\n",
      " [0. 0. 0. 0. 0. 0. 0. 0. 0. 0.]\n",
      " [0. 0. 0. 0. 0. 0. 0. 0. 0. 0.]\n",
      " [1. 0. 0. 0. 0. 0. 0. 0. 0. 0.]\n",
      " [0. 0. 0. 0. 0. 0. 0. 0. 0. 0.]\n",
      " [0. 0. 0. 0. 0. 0. 0. 0. 0. 1.]\n",
      " [0. 0. 0. 0. 0. 1. 0. 0. 0. 0.]\n",
      " [0. 0. 0. 0. 0. 0. 0. 0. 0. 0.]\n",
      " [0. 0. 0. 0. 0. 0. 0. 0. 0. 0.]\n",
      " [0. 0. 0. 1. 0. 0. 0. 0. 0. 0.]]\n"
     ]
    },
    {
     "data": {
      "application/vnd.jupyter.widget-view+json": {
       "model_id": "ef14c1cb2b414c86ad38dca290ff3ebd",
       "version_major": 2,
       "version_minor": 0
      },
      "text/plain": [
       "  0%|          | 0/1000 [00:00<?, ?it/s]"
      ]
     },
     "metadata": {},
     "output_type": "display_data"
    },
    {
     "name": "stdout",
     "output_type": "stream",
     "text": [
      "---------------------------\n",
      "Number of points: 5\n",
      "[[0. 0. 0. 0. 0. 0. 1. 0. 0. 0.]\n",
      " [0. 0. 0. 0. 0. 0. 0. 0. 0. 0.]\n",
      " [0. 0. 0. 0. 0. 0. 0. 0. 0. 0.]\n",
      " [1. 0. 0. 0. 0. 0. 0. 0. 0. 0.]\n",
      " [0. 0. 0. 0. 0. 0. 0. 0. 0. 0.]\n",
      " [0. 0. 0. 0. 0. 0. 0. 0. 0. 1.]\n",
      " [0. 0. 0. 0. 0. 1. 0. 0. 0. 0.]\n",
      " [0. 0. 0. 0. 0. 0. 0. 0. 0. 0.]\n",
      " [0. 0. 0. 0. 0. 0. 0. 0. 0. 0.]\n",
      " [0. 0. 0. 1. 0. 0. 0. 0. 0. 0.]]\n"
     ]
    },
    {
     "data": {
      "application/vnd.jupyter.widget-view+json": {
       "model_id": "f9a28d185ced46ee8b216efedcbcb192",
       "version_major": 2,
       "version_minor": 0
      },
      "text/plain": [
       "  0%|          | 0/1000 [00:00<?, ?it/s]"
      ]
     },
     "metadata": {},
     "output_type": "display_data"
    },
    {
     "name": "stdout",
     "output_type": "stream",
     "text": [
      "---------------------------\n",
      "Number of points: 6\n",
      "[[0. 0. 0. 0. 0. 0. 1. 0. 0. 0.]\n",
      " [0. 0. 0. 0. 0. 0. 0. 0. 0. 0.]\n",
      " [0. 0. 0. 0. 0. 0. 0. 0. 0. 0.]\n",
      " [1. 0. 0. 0. 0. 0. 0. 0. 0. 0.]\n",
      " [0. 0. 0. 0. 0. 0. 0. 0. 0. 0.]\n",
      " [0. 0. 0. 0. 0. 0. 0. 0. 0. 1.]\n",
      " [0. 0. 0. 0. 0. 1. 0. 0. 0. 0.]\n",
      " [1. 0. 0. 0. 0. 0. 0. 0. 0. 0.]\n",
      " [0. 0. 0. 0. 0. 0. 0. 0. 0. 0.]\n",
      " [0. 0. 0. 1. 0. 0. 0. 0. 0. 0.]]\n"
     ]
    },
    {
     "data": {
      "application/vnd.jupyter.widget-view+json": {
       "model_id": "f26b3a4ea3394c9dbf20940f7699702e",
       "version_major": 2,
       "version_minor": 0
      },
      "text/plain": [
       "  0%|          | 0/1000 [00:00<?, ?it/s]"
      ]
     },
     "metadata": {},
     "output_type": "display_data"
    },
    {
     "name": "stdout",
     "output_type": "stream",
     "text": [
      "---------------------------\n",
      "Number of points: 7\n",
      "[[0. 0. 0. 0. 0. 0. 1. 0. 0. 0.]\n",
      " [0. 0. 0. 0. 0. 0. 0. 0. 0. 0.]\n",
      " [0. 0. 0. 0. 0. 0. 0. 0. 0. 0.]\n",
      " [1. 1. 0. 0. 0. 0. 0. 0. 0. 0.]\n",
      " [0. 0. 0. 0. 0. 0. 0. 0. 0. 0.]\n",
      " [0. 0. 0. 0. 0. 0. 0. 0. 0. 1.]\n",
      " [0. 0. 0. 0. 0. 1. 0. 0. 0. 0.]\n",
      " [1. 0. 0. 0. 0. 0. 0. 0. 0. 0.]\n",
      " [0. 0. 0. 0. 0. 0. 0. 0. 0. 0.]\n",
      " [0. 0. 0. 1. 0. 0. 0. 0. 0. 0.]]\n"
     ]
    },
    {
     "data": {
      "application/vnd.jupyter.widget-view+json": {
       "model_id": "06cc4569bc0f4af7ab10b9c92d9a21ea",
       "version_major": 2,
       "version_minor": 0
      },
      "text/plain": [
       "  0%|          | 0/1000 [00:00<?, ?it/s]"
      ]
     },
     "metadata": {},
     "output_type": "display_data"
    },
    {
     "name": "stdout",
     "output_type": "stream",
     "text": [
      "---------------------------\n",
      "Number of points: 8\n",
      "[[0. 0. 0. 0. 0. 0. 1. 0. 0. 0.]\n",
      " [0. 0. 0. 0. 0. 0. 0. 0. 0. 0.]\n",
      " [0. 0. 0. 0. 0. 0. 0. 0. 0. 0.]\n",
      " [1. 1. 0. 0. 0. 0. 0. 0. 0. 0.]\n",
      " [0. 0. 0. 0. 0. 0. 0. 0. 0. 0.]\n",
      " [0. 0. 0. 1. 0. 0. 0. 0. 0. 1.]\n",
      " [0. 0. 0. 0. 0. 1. 0. 0. 0. 0.]\n",
      " [1. 0. 0. 0. 0. 0. 0. 0. 0. 0.]\n",
      " [0. 0. 0. 0. 0. 0. 0. 0. 0. 0.]\n",
      " [0. 0. 0. 1. 0. 0. 0. 0. 0. 0.]]\n"
     ]
    },
    {
     "data": {
      "application/vnd.jupyter.widget-view+json": {
       "model_id": "9fb3af024e9d415796ba21e145bc46db",
       "version_major": 2,
       "version_minor": 0
      },
      "text/plain": [
       "  0%|          | 0/1000 [00:00<?, ?it/s]"
      ]
     },
     "metadata": {},
     "output_type": "display_data"
    },
    {
     "name": "stdout",
     "output_type": "stream",
     "text": [
      "---------------------------\n",
      "Number of points: 9\n",
      "[[0. 0. 0. 0. 0. 0. 1. 0. 0. 0.]\n",
      " [0. 0. 0. 0. 0. 0. 0. 0. 0. 0.]\n",
      " [0. 0. 0. 0. 0. 0. 0. 0. 0. 0.]\n",
      " [1. 1. 0. 0. 0. 0. 0. 0. 0. 0.]\n",
      " [0. 0. 0. 0. 0. 0. 0. 0. 0. 0.]\n",
      " [0. 0. 0. 1. 0. 0. 0. 0. 0. 1.]\n",
      " [0. 0. 0. 0. 0. 1. 0. 0. 0. 0.]\n",
      " [1. 0. 0. 0. 0. 0. 0. 0. 0. 0.]\n",
      " [0. 0. 0. 0. 0. 0. 0. 0. 0. 0.]\n",
      " [0. 0. 1. 1. 0. 0. 0. 0. 0. 0.]]\n"
     ]
    },
    {
     "data": {
      "application/vnd.jupyter.widget-view+json": {
       "model_id": "ef89a3f44bf44c32909d5c64a7236a89",
       "version_major": 2,
       "version_minor": 0
      },
      "text/plain": [
       "  0%|          | 0/1000 [00:00<?, ?it/s]"
      ]
     },
     "metadata": {},
     "output_type": "display_data"
    },
    {
     "name": "stdout",
     "output_type": "stream",
     "text": [
      "---------------------------\n",
      "Number of points: 10\n",
      "[[0. 0. 0. 0. 0. 0. 1. 0. 0. 0.]\n",
      " [0. 0. 0. 0. 0. 0. 0. 0. 0. 0.]\n",
      " [0. 0. 0. 0. 0. 0. 0. 0. 0. 0.]\n",
      " [1. 1. 0. 0. 0. 0. 0. 0. 0. 0.]\n",
      " [0. 0. 0. 0. 0. 0. 0. 0. 0. 0.]\n",
      " [0. 0. 0. 1. 0. 0. 0. 0. 0. 1.]\n",
      " [0. 0. 0. 0. 0. 1. 0. 0. 0. 0.]\n",
      " [1. 0. 0. 0. 0. 0. 0. 0. 0. 0.]\n",
      " [0. 0. 0. 0. 1. 0. 0. 0. 0. 0.]\n",
      " [0. 0. 1. 1. 0. 0. 0. 0. 0. 0.]]\n"
     ]
    },
    {
     "data": {
      "application/vnd.jupyter.widget-view+json": {
       "model_id": "e912427916d04abeada041ff3d64b101",
       "version_major": 2,
       "version_minor": 0
      },
      "text/plain": [
       "  0%|          | 0/1000 [00:00<?, ?it/s]"
      ]
     },
     "metadata": {},
     "output_type": "display_data"
    },
    {
     "name": "stdout",
     "output_type": "stream",
     "text": [
      "---------------------------\n",
      "Number of points: 11\n",
      "[[0. 0. 0. 0. 0. 0. 1. 0. 0. 0.]\n",
      " [0. 0. 0. 0. 0. 0. 0. 0. 0. 0.]\n",
      " [0. 0. 0. 0. 0. 0. 0. 0. 0. 0.]\n",
      " [1. 1. 0. 0. 0. 0. 0. 0. 0. 0.]\n",
      " [0. 0. 0. 0. 0. 0. 0. 0. 0. 0.]\n",
      " [0. 0. 0. 1. 0. 0. 0. 0. 0. 1.]\n",
      " [0. 0. 0. 0. 0. 1. 0. 0. 0. 0.]\n",
      " [1. 0. 0. 0. 0. 0. 0. 0. 1. 0.]\n",
      " [0. 0. 0. 0. 1. 0. 0. 0. 0. 0.]\n",
      " [0. 0. 1. 1. 0. 0. 0. 0. 0. 0.]]\n"
     ]
    },
    {
     "data": {
      "application/vnd.jupyter.widget-view+json": {
       "model_id": "3b28041175ff420b83123dc630b67eb0",
       "version_major": 2,
       "version_minor": 0
      },
      "text/plain": [
       "  0%|          | 0/1000 [00:00<?, ?it/s]"
      ]
     },
     "metadata": {},
     "output_type": "display_data"
    },
    {
     "name": "stdout",
     "output_type": "stream",
     "text": [
      "---------------------------\n",
      "Number of points: 12\n",
      "[[0. 0. 0. 0. 0. 1. 1. 0. 0. 0.]\n",
      " [0. 0. 0. 0. 0. 0. 0. 0. 0. 0.]\n",
      " [0. 0. 0. 0. 0. 0. 0. 0. 0. 0.]\n",
      " [1. 1. 0. 0. 0. 0. 0. 0. 0. 0.]\n",
      " [0. 0. 0. 0. 0. 0. 0. 0. 0. 0.]\n",
      " [0. 0. 0. 1. 0. 0. 0. 0. 0. 1.]\n",
      " [0. 0. 0. 0. 0. 1. 0. 0. 0. 0.]\n",
      " [1. 0. 0. 0. 0. 0. 0. 0. 1. 0.]\n",
      " [0. 0. 0. 0. 1. 0. 0. 0. 0. 0.]\n",
      " [0. 0. 1. 1. 0. 0. 0. 0. 0. 0.]]\n"
     ]
    },
    {
     "data": {
      "application/vnd.jupyter.widget-view+json": {
       "model_id": "9a5e67881f05435dab451d823f8d9c4b",
       "version_major": 2,
       "version_minor": 0
      },
      "text/plain": [
       "  0%|          | 0/1000 [00:00<?, ?it/s]"
      ]
     },
     "metadata": {},
     "output_type": "display_data"
    },
    {
     "name": "stdout",
     "output_type": "stream",
     "text": [
      "---------------------------\n",
      "Number of points: 13\n",
      "[[0. 0. 0. 0. 0. 1. 1. 0. 0. 0.]\n",
      " [0. 0. 0. 0. 0. 0. 0. 0. 0. 0.]\n",
      " [0. 0. 0. 0. 0. 0. 0. 0. 0. 0.]\n",
      " [1. 1. 0. 0. 0. 0. 0. 0. 0. 0.]\n",
      " [0. 0. 0. 0. 0. 0. 0. 0. 0. 1.]\n",
      " [0. 0. 0. 1. 0. 0. 0. 0. 0. 1.]\n",
      " [0. 0. 0. 0. 0. 1. 0. 0. 0. 0.]\n",
      " [1. 0. 0. 0. 0. 0. 0. 0. 1. 0.]\n",
      " [0. 0. 0. 0. 1. 0. 0. 0. 0. 0.]\n",
      " [0. 0. 1. 1. 0. 0. 0. 0. 0. 0.]]\n"
     ]
    },
    {
     "data": {
      "application/vnd.jupyter.widget-view+json": {
       "model_id": "1c3e8d3bc0f643208fda04684e0511bc",
       "version_major": 2,
       "version_minor": 0
      },
      "text/plain": [
       "  0%|          | 0/1000 [00:00<?, ?it/s]"
      ]
     },
     "metadata": {},
     "output_type": "display_data"
    },
    {
     "name": "stdout",
     "output_type": "stream",
     "text": [
      "---------------------------\n",
      "Number of points: 14\n",
      "[[0. 0. 0. 0. 0. 1. 1. 0. 0. 0.]\n",
      " [0. 0. 0. 0. 0. 0. 0. 0. 0. 0.]\n",
      " [0. 0. 0. 0. 0. 0. 0. 0. 0. 0.]\n",
      " [1. 1. 0. 0. 0. 0. 0. 0. 0. 0.]\n",
      " [0. 0. 0. 0. 0. 0. 0. 0. 0. 1.]\n",
      " [0. 0. 0. 1. 0. 0. 0. 0. 0. 1.]\n",
      " [0. 0. 0. 0. 0. 1. 0. 1. 0. 0.]\n",
      " [1. 0. 0. 0. 0. 0. 0. 0. 1. 0.]\n",
      " [0. 0. 0. 0. 1. 0. 0. 0. 0. 0.]\n",
      " [0. 0. 1. 1. 0. 0. 0. 0. 0. 0.]]\n"
     ]
    },
    {
     "data": {
      "application/vnd.jupyter.widget-view+json": {
       "model_id": "7ee99526341d430297f7d6511cf4f33e",
       "version_major": 2,
       "version_minor": 0
      },
      "text/plain": [
       "  0%|          | 0/1000 [00:00<?, ?it/s]"
      ]
     },
     "metadata": {},
     "output_type": "display_data"
    },
    {
     "name": "stdout",
     "output_type": "stream",
     "text": [
      "---------------------------\n",
      "Number of points: 15\n",
      "[[0. 0. 0. 0. 0. 1. 1. 0. 0. 0.]\n",
      " [0. 1. 0. 0. 0. 0. 0. 0. 0. 0.]\n",
      " [0. 0. 0. 0. 0. 0. 0. 0. 0. 0.]\n",
      " [1. 1. 0. 0. 0. 0. 0. 0. 0. 0.]\n",
      " [0. 0. 0. 0. 0. 0. 0. 0. 0. 1.]\n",
      " [0. 0. 0. 1. 0. 0. 0. 0. 0. 1.]\n",
      " [0. 0. 0. 0. 0. 1. 0. 1. 0. 0.]\n",
      " [1. 0. 0. 0. 0. 0. 0. 0. 1. 0.]\n",
      " [0. 0. 0. 0. 1. 0. 0. 0. 0. 0.]\n",
      " [0. 0. 1. 1. 0. 0. 0. 0. 0. 0.]]\n"
     ]
    },
    {
     "data": {
      "application/vnd.jupyter.widget-view+json": {
       "model_id": "93924dce80b34c9eb81126f1f94eb4fc",
       "version_major": 2,
       "version_minor": 0
      },
      "text/plain": [
       "  0%|          | 0/1000 [00:00<?, ?it/s]"
      ]
     },
     "metadata": {},
     "output_type": "display_data"
    },
    {
     "name": "stdout",
     "output_type": "stream",
     "text": [
      "---------------------------\n",
      "Number of points: 16\n",
      "[[0. 0. 0. 0. 0. 1. 1. 0. 0. 0.]\n",
      " [0. 1. 0. 0. 0. 0. 0. 0. 0. 0.]\n",
      " [0. 0. 0. 0. 0. 0. 1. 0. 0. 0.]\n",
      " [1. 1. 0. 0. 0. 0. 0. 0. 0. 0.]\n",
      " [0. 0. 0. 0. 0. 0. 0. 0. 0. 1.]\n",
      " [0. 0. 0. 1. 0. 0. 0. 0. 0. 1.]\n",
      " [0. 0. 0. 0. 0. 1. 0. 1. 0. 0.]\n",
      " [1. 0. 0. 0. 0. 0. 0. 0. 1. 0.]\n",
      " [0. 0. 0. 0. 1. 0. 0. 0. 0. 0.]\n",
      " [0. 0. 1. 1. 0. 0. 0. 0. 0. 0.]]\n"
     ]
    },
    {
     "data": {
      "application/vnd.jupyter.widget-view+json": {
       "model_id": "a3d747d413c7442c98e080dae8f4072f",
       "version_major": 2,
       "version_minor": 0
      },
      "text/plain": [
       "  0%|          | 0/1000 [00:00<?, ?it/s]"
      ]
     },
     "metadata": {},
     "output_type": "display_data"
    },
    {
     "name": "stdout",
     "output_type": "stream",
     "text": [
      "---------------------------\n",
      "Number of points: 17\n",
      "[[0. 0. 0. 0. 0. 1. 1. 0. 0. 0.]\n",
      " [0. 1. 0. 0. 0. 0. 0. 0. 0. 0.]\n",
      " [0. 0. 0. 0. 0. 0. 1. 0. 1. 0.]\n",
      " [1. 1. 0. 0. 0. 0. 0. 0. 0. 0.]\n",
      " [0. 0. 0. 0. 0. 0. 0. 0. 0. 1.]\n",
      " [0. 0. 0. 1. 0. 0. 0. 0. 0. 1.]\n",
      " [0. 0. 0. 0. 0. 1. 0. 1. 0. 0.]\n",
      " [1. 0. 0. 0. 0. 0. 0. 0. 1. 0.]\n",
      " [0. 0. 0. 0. 1. 0. 0. 0. 0. 0.]\n",
      " [0. 0. 1. 1. 0. 0. 0. 0. 0. 0.]]\n"
     ]
    },
    {
     "data": {
      "application/vnd.jupyter.widget-view+json": {
       "model_id": "40bac4d9451b48cf8e624197cd9ad564",
       "version_major": 2,
       "version_minor": 0
      },
      "text/plain": [
       "  0%|          | 0/1000 [00:00<?, ?it/s]"
      ]
     },
     "metadata": {},
     "output_type": "display_data"
    },
    {
     "name": "stdout",
     "output_type": "stream",
     "text": [
      "---------------------------\n",
      "Number of points: 18\n",
      "[[0. 0. 0. 0. 0. 1. 1. 0. 0. 0.]\n",
      " [0. 1. 0. 0. 0. 0. 0. 0. 0. 0.]\n",
      " [0. 0. 0. 0. 0. 0. 1. 0. 1. 0.]\n",
      " [1. 1. 0. 0. 0. 0. 0. 0. 0. 0.]\n",
      " [0. 0. 0. 0. 0. 0. 0. 0. 0. 1.]\n",
      " [0. 0. 0. 1. 0. 0. 0. 0. 0. 1.]\n",
      " [0. 0. 0. 0. 0. 1. 0. 1. 0. 0.]\n",
      " [1. 0. 0. 0. 0. 0. 0. 0. 1. 0.]\n",
      " [0. 0. 1. 0. 1. 0. 0. 0. 0. 0.]\n",
      " [0. 0. 1. 1. 0. 0. 0. 0. 0. 0.]]\n",
      "*******************************************************************\n",
      "Trial Terminated with 18 points. Final valid configuration:\n",
      "[[0. 0. 0. 0. 0. 1. 1. 0. 0. 0.]\n",
      " [0. 1. 0. 0. 0. 0. 0. 0. 0. 0.]\n",
      " [0. 0. 0. 0. 0. 0. 1. 0. 1. 0.]\n",
      " [1. 1. 0. 0. 0. 0. 0. 0. 0. 0.]\n",
      " [0. 0. 0. 0. 0. 0. 0. 0. 0. 1.]\n",
      " [0. 0. 0. 1. 0. 0. 0. 0. 0. 1.]\n",
      " [0. 0. 0. 0. 0. 1. 0. 1. 0. 0.]\n",
      " [1. 0. 0. 0. 0. 0. 0. 0. 1. 0.]\n",
      " [0. 0. 1. 0. 1. 0. 0. 0. 0. 0.]\n",
      " [0. 0. 1. 1. 0. 0. 0. 0. 0. 0.]]\n"
     ]
    },
    {
     "data": {
      "image/png": "[encoded data removed]",
      "text/plain": [
       "<Figure size 1200x1200 with 2 Axes>"
      ]
     },
     "metadata": {},
     "output_type": "display_data"
    },
    {
     "name": "stdout",
     "output_type": "stream",
     "text": [
      "Time: 197.918612 sec\n"
     ]
    }
   ],
   "source": [
    "args = {\n",
    "    'n': 10,\n",
    "    'C': 1.41, \n",
    "    'num_searches': 1000\n",
    "}\n",
    "\n",
    "evaluate(args)"
   ]
  },
  {
   "cell_type": "code",
   "execution_count": null,
   "id": "52462873",
   "metadata": {},
   "outputs": [],
   "source": []
  }
 ],
 "metadata": {
  "kernelspec": {
   "display_name": "base",
   "language": "python",
   "name": "python3"
  },
  "language_info": {
   "codemirror_mode": {
    "name": "ipython",
    "version": 3
   },
   "file_extension": ".py",
   "mimetype": "text/x-python",
   "name": "python",
   "nbconvert_exporter": "python",
   "pygments_lexer": "ipython3",
   "version": "3.10.9"
  }
 },
 "nbformat": 4,
 "nbformat_minor": 5
}
