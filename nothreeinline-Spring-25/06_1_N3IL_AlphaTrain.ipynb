{
 "cells": [
  {
   "cell_type": "markdown",
   "id": "1cab7517",
   "metadata": {},
   "source": [
    "## Note\n",
    "\n",
    "Consider change the value (points placed) to be $\\frac{value^a}{2n}$ for a > 1 or $\\frac{b^{value}}{2n}$ for b > 1, rewarding good explorations much more.\n",
    "\n",
    "If place a point at somewhere will cause collinear triple(s), let that action be invalid. Then, exploring other actions. Terminating condition: adding any point will cause collinear triple(s).\n",
    "\n",
    "How is policy calculated?"
   ]
  },
  {
   "cell_type": "code",
   "execution_count": 38,
   "id": "11bd4d36",
   "metadata": {},
   "outputs": [
    {
     "name": "stdout",
     "output_type": "stream",
     "text": [
      "1.26.4\n",
      "1.12.1\n"
     ]
    }
   ],
   "source": [
    "import numpy as np\n",
    "print(np.__version__)\n",
    "import math\n",
    "from itertools import combinations\n",
    "\n",
    "import torch\n",
    "print(torch.__version__)\n",
    "\n",
    "torch.cuda.is_available()\n",
    "\n",
    "import torch.nn as nn\n",
    "import torch.nn.functional as F\n",
    "\n",
    "torch.manual_seed(0)\n",
    "\n",
    "import matplotlib.pyplot as plt\n",
    "\n",
    "from tqdm.notebook import trange\n",
    "\n",
    "import random"
   ]
  },
  {
   "cell_type": "code",
   "execution_count": 39,
   "id": "c9634873",
   "metadata": {},
   "outputs": [],
   "source": [
    "def are_collinear(p1, p2, p3):\n",
    "  \"\"\"Returns True if the three points are collinear.\"\"\"\n",
    "  \"\"\"Adapt from https://github.com/kitft/funsearch\"\"\"\n",
    "  x1, y1 = p1\n",
    "  x2, y2 = p2\n",
    "  x3, y3 = p3\n",
    "  return (y1 - y2) * (x1 - x3) == (y1 - y3) * (x1 - x2)\n",
    "\n",
    "class N3il:  # Class for the No-Three-In-Line problem\n",
    "    def __init__(self, grid_size):\n",
    "        self.row_count = grid_size[0]\n",
    "        self.column_count = grid_size[1]\n",
    "        self.pts_upper_bound = np.min(grid_size)\n",
    "        self.action_size = self.row_count * self.column_count\n",
    "\n",
    "    def get_initial_state(self):\n",
    "        # Return a grid of zeros representing an empty board\n",
    "        return np.zeros((self.row_count, self.column_count))\n",
    "\n",
    "    def get_next_state(self, state, action):\n",
    "        # Place a point at the specified action (row-major order)\n",
    "        row = action // self.column_count\n",
    "        column = action % self.column_count\n",
    "        state[row, column] = 1\n",
    "        return state\n",
    "\n",
    "    def get_valid_moves(self, state):\n",
    "        # Return a flattened array indicating valid positions (0 means valid)\n",
    "        return (state.reshape(-1) == 0).astype(np.uint8)\n",
    "\n",
    "    def check_collinear(self, state, action=None):\n",
    "        # Check how many new collinear triples are formed by adding a new point\n",
    "\n",
    "        if action is None:\n",
    "            state_next = state\n",
    "        else:\n",
    "            row = action // self.column_count\n",
    "            column = action % self.column_count\n",
    "            state_next = state.copy()\n",
    "            state_next[row, column] = 1\n",
    "\n",
    "        coords = np.argwhere(state_next == 1)\n",
    "        triples = list(combinations(coords, 3))\n",
    "\n",
    "        number_of_collinear_triples = 0\n",
    "        for triple in triples:\n",
    "            if are_collinear(triple[0], triple[1], triple[2]):\n",
    "                number_of_collinear_triples += 1\n",
    "\n",
    "        return number_of_collinear_triples\n",
    "\n",
    "    def get_value_and_terminated(self, state):\n",
    "        # Return total number of points and whether a terminal condition is met\n",
    "        value = np.sum(state.reshape(-1) == 1) / self.pts_upper_bound # Normalization\n",
    "        return value, True\n",
    "    \n",
    "    def get_encoded_state(self, state):\n",
    "        encoded_state = np.stack(\n",
    "            (state == 0, state == 1)\n",
    "        ).astype(np.float32)\n",
    "        \n",
    "        return encoded_state\n",
    "\n",
    "    def display_state(self, state):\n",
    "        \"\"\"\n",
    "        Display the current grid configuration using matplotlib.\n",
    "        Points are drawn where the state equals 1.\n",
    "        The origin (0, 0) is located at the bottom-left.\n",
    "        \"\"\"\n",
    "        y_coords, x_coords = np.nonzero(state)\n",
    "        flipped_y = self.row_count - 1 - y_coords  # Flip vertically for display\n",
    "\n",
    "        plt.figure(figsize=(6, 6))\n",
    "        plt.scatter(x_coords, flipped_y, s=100, c='blue')\n",
    "        plt.grid(True)\n",
    "        plt.xticks(range(self.column_count))\n",
    "        plt.yticks(range(self.row_count))\n",
    "        plt.xlim(-0.5, self.column_count - 0.5)\n",
    "        plt.ylim(-0.5, self.row_count - 0.5)\n",
    "        plt.gca().set_aspect('equal')\n",
    "        plt.title(\"No-Three-In-Line Grid\")\n",
    "        plt.show()"
   ]
  },
  {
   "cell_type": "code",
   "execution_count": 40,
   "id": "21755b1e",
   "metadata": {},
   "outputs": [],
   "source": [
    "class ResNet(nn.Module):\n",
    "    def __init__(self, game, num_resBlocks, num_hidden, device):\n",
    "        super().__init__()\n",
    "        self.device = device\n",
    "        self.startBlock = nn.Sequential(\n",
    "            nn.Conv2d(2, num_hidden, kernel_size=3, padding=1),\n",
    "            nn.BatchNorm2d(num_hidden),\n",
    "            nn.ReLU()\n",
    "        )\n",
    "\n",
    "        self.backBone = nn.ModuleList(\n",
    "            [ResBlock(num_hidden) for i in range(num_resBlocks)]\n",
    "        )\n",
    "\n",
    "        self.policyHead = nn.Sequential(\n",
    "            nn.Conv2d(num_hidden, 32, kernel_size=3, padding=1),\n",
    "            nn.BatchNorm2d(32),\n",
    "            nn.ReLU(),\n",
    "            nn.Flatten(),\n",
    "            nn.Linear(32 * game.row_count * game.column_count, game.action_size)\n",
    "        )\n",
    "\n",
    "        self.valueHead = nn.Sequential(\n",
    "            nn.Conv2d(num_hidden, 2, kernel_size=3, padding=1),\n",
    "            nn.BatchNorm2d(2),\n",
    "            nn.ReLU(),\n",
    "            nn.Flatten(),\n",
    "            nn.Linear(2 * game.row_count * game.column_count, 1),\n",
    "            nn.Tanh()\n",
    "        )\n",
    "\n",
    "        self.to(device)\n",
    "\n",
    "    def forward(self, x):\n",
    "        x = self.startBlock(x)\n",
    "        for resBlock in self.backBone:\n",
    "            x = resBlock(x)\n",
    "        policy = self.policyHead(x)\n",
    "        value = self.valueHead(x)\n",
    "        return policy, value\n",
    "\n",
    "class ResBlock(nn.Module):\n",
    "    def __init__(self, num_hidden):\n",
    "        super().__init__()\n",
    "        self.conv1 = nn.Conv2d(num_hidden, num_hidden, kernel_size=3, padding=1)\n",
    "        self.bn1 = nn.BatchNorm2d(num_hidden)\n",
    "        self.conv2 = nn.Conv2d(num_hidden, num_hidden, kernel_size=3, padding=1)\n",
    "        self.bn2 = nn.BatchNorm2d(num_hidden)\n",
    "\n",
    "    def forward(self, x):\n",
    "        residual = x\n",
    "        x = F.relu(self.bn1(self.conv1(x)))\n",
    "        x = self.bn2(self.conv2(x))\n",
    "        x += residual\n",
    "        x = F.relu(x)\n",
    "        return x"
   ]
  },
  {
   "cell_type": "markdown",
   "id": "21c2f89d",
   "metadata": {},
   "source": [
    "PUCT Formula:\n",
    "\n",
    "$$\n",
    "U(s, a) = Q(s, a) + c_{\\text{puct}} \\cdot P(s, a) \\cdot \\frac{\\sqrt{\\sum_b N(s, b)}}{1 + N(s, a)}\n",
    "$$\n",
    "\n",
    "| Parameter / Function    | Meaning                                                                               |\n",
    "| -------------------- | ------------------------------------------------------------------------------------- |\n",
    "| $U(s, a)$          | **PUCT score** for selecting action $a$ in state $s$                              |\n",
    "| $Q(s, a)$          | **Mean value** (estimated reward) of action $a$ from state $s$                    |\n",
    "| $c_{\\text{puct}}$ | **Exploration constant** controls the level of exploration vs exploitation           |\n",
    "| $P(s, a)$          | **Prior probability** of taking action $a$ in state $s$ (from the policy network) |\n",
    "| $N(s, b)$          | **Visit count** of action $b$ in state $s$                                        |\n",
    "| $\\sum_b N(s, b)$  | **Total visit count** of all actions $b$ from state $s$                           |\n"
   ]
  },
  {
   "cell_type": "code",
   "execution_count": null,
   "id": "a383a4c0",
   "metadata": {},
   "outputs": [],
   "source": [
    "'''\n",
    "Adapt from\n",
    "foersterrobert/AlphaZeroFromScratch\n",
    "'''\n",
    "\n",
    "class Node:\n",
    "    def __init__(self, game, args, state, parent=None, action_taken=None, prior=0):\n",
    "        self.game = game\n",
    "        self.args = args\n",
    "        self.state = state\n",
    "        self.parent = parent\n",
    "        self.action_taken = action_taken\n",
    "        self.prior = prior\n",
    "\n",
    "        self.children = []\n",
    "\n",
    "        self.visit_count = 0\n",
    "        self.value_sum = 0\n",
    "\n",
    "    def is_fully_expanded(self):\n",
    "        return len(self.children) > 0\n",
    "    \n",
    "    def select(self):\n",
    "        best_child = None\n",
    "        best_ucb = -np.inf\n",
    "\n",
    "        for child in self.children:\n",
    "            ucb = self.get_ucb(child)\n",
    "            if ucb > best_ucb:\n",
    "                best_child = child\n",
    "                best_ucb = ucb\n",
    "        \n",
    "        return best_child\n",
    "    \n",
    "    def get_ucb(self, child):\n",
    "        if child.visit_count == 0:\n",
    "            q_value = 0\n",
    "        else:\n",
    "            q_value = 1 - ((child.value_sum / child.visit_count) + 1)/2 \n",
    "        # Think about: Since value_sum could be negative, we do this to make q_value be a probability\n",
    "        # We do \"1 - \" because we want to put opponent in a bad situation\n",
    "        return q_value + self.args['C'] * (math.sqrt(self.visit_count) / (child.visit_count + 1)) * child.prior\n",
    "\n",
    "    def expand(self, policy):\n",
    "        for action, prob in enumerate(policy):\n",
    "            if prob > 0:\n",
    "                child_state = self.state.copy()\n",
    "                child_state = self.game.get_next_state(child_state, action)\n",
    "\n",
    "                child = Node(self.game, self.args, child_state, self, action, prob)\n",
    "                self.children.append(child)\n",
    "\n",
    "        return child\n",
    "\n",
    "    def backpropagate(self, value):\n",
    "        self.value_sum += value\n",
    "        self.visit_count += 1\n",
    "\n",
    "        if self.parent is not None:\n",
    "            self.parent.backpropagate(value)\n",
    "\n",
    "class MCTS:\n",
    "    def __init__(self, game, args, model):\n",
    "        self.game = game\n",
    "        self.args = args\n",
    "        self.model = model\n",
    "    \n",
    "    @torch.no_grad() # We don't use this for training   \n",
    "    def search(self, state):\n",
    "        # define root\n",
    "        root = Node(self.game, self.args, state)\n",
    "\n",
    "        for search in range(self.args['num_searches']):\n",
    "            node = root\n",
    "\n",
    "            # selection\n",
    "            while node.is_fully_expanded():\n",
    "                node = node.select()\n",
    "\n",
    "            has_collinear = self.game.check_collinear(node.state, node.action_taken)\n",
    "            value, _ = self.game.get_value_and_terminated(node.state)\n",
    "\n",
    "            if has_collinear == 0: # If no collinear triples\n",
    "                policy, value = self.model(\n",
    "                    torch.tensor(self.game.get_encoded_state(node.state), device=self.model.device).unsqueeze(0)\n",
    "                )\n",
    "                policy = torch.softmax(policy, axis=1).squeeze(0).cpu().numpy()\n",
    "                valid_moves = self.game.get_valid_moves(node.state)\n",
    "                policy *= valid_moves\n",
    "                policy /= np.sum(policy) \n",
    "                \n",
    "                value = value.item()\n",
    "                node = node.expand(policy)\n",
    "\n",
    "            node.backpropagate(value)\n",
    "\n",
    "        action_probs = np.zeros(self.game.action_size)\n",
    "        for child in root.children:\n",
    "            action_probs[child.action_taken] = child.visit_count\n",
    "        action_probs /= np.sum(action_probs)\n",
    "        return action_probs\n",
    "            \n",
    "            # expansion\n",
    "            # simulation\n",
    "            # backpropagation\n",
    "\n",
    "        # return visit_counts"
   ]
  },
  {
   "cell_type": "code",
   "execution_count": 59,
   "id": "5b33ff40",
   "metadata": {},
   "outputs": [],
   "source": [
    "class AlphaZero:\n",
    "    def __init__(self, model, optimizer, game, args):\n",
    "        self.model = model\n",
    "        self.optimizer = optimizer\n",
    "        self.game = game\n",
    "        self.args = args\n",
    "        self.mcts = MCTS(game, args, model)\n",
    "        \n",
    "    def selfPlay(self):\n",
    "        memory = []\n",
    "        state = self.game.get_initial_state()\n",
    "        \n",
    "        while True:\n",
    "            action_probs = self.mcts.search(state)\n",
    "            \n",
    "            memory.append((state, action_probs))\n",
    "            \n",
    "            action = np.random.choice(self.game.action_size, p=action_probs)\n",
    "            \n",
    "            state = self.game.get_next_state(state, action)\n",
    "\n",
    "            has_collinear = self.game.check_collinear(state, action)\n",
    "            value, _ = self.game.get_value_and_terminated(state)\n",
    "            \n",
    "            if has_collinear > 0:\n",
    "                returnMemory = []\n",
    "                for hist_state, hist_action_probs in memory:\n",
    "                    hist_outcome = value\n",
    "                    returnMemory.append((\n",
    "                        self.game.get_encoded_state(hist_state),\n",
    "                        hist_action_probs,\n",
    "                        hist_outcome\n",
    "                    ))\n",
    "                return returnMemory\n",
    "                \n",
    "    def train(self, memory):\n",
    "        random.shuffle(memory)\n",
    "        for batchIdx in range(0, len(memory), self.args['batch_size']):\n",
    "            sample = memory[batchIdx : batchIdx + self.args['batch_size']]\n",
    "            if not sample:\n",
    "                continue  # skip empty batch\n",
    "            state, policy_targets, value_targets = zip(*sample)\n",
    "            \n",
    "            state, policy_targets, value_targets = np.array(state), np.array(policy_targets), np.array(value_targets).reshape(-1, 1)\n",
    "            \n",
    "            state = torch.tensor(state, dtype=torch.float32, device=self.model.device)\n",
    "            policy_targets = torch.tensor(policy_targets, dtype=torch.float32, device=self.model.device)\n",
    "            value_targets = torch.tensor(value_targets, dtype=torch.float32, device=self.model.device)\n",
    "            \n",
    "            out_policy, out_value = self.model(state)\n",
    "            \n",
    "            policy_loss = F.cross_entropy(out_policy, policy_targets)\n",
    "            value_loss = F.mse_loss(out_value, value_targets)\n",
    "            loss = policy_loss + value_loss\n",
    "            \n",
    "            self.optimizer.zero_grad() # change to self.optimizer\n",
    "            loss.backward()\n",
    "            self.optimizer.step() # change to self.optimizer\n",
    "    \n",
    "    def learn(self):\n",
    "        for iteration in range(self.args['num_iterations']):\n",
    "            memory = []\n",
    "            \n",
    "            self.model.eval()\n",
    "            for selfPlay_iteration in trange(self.args['num_selfPlay_iterations']):\n",
    "                memory += self.selfPlay()\n",
    "                \n",
    "            self.model.train()\n",
    "            for epoch in trange(self.args['num_epochs']):\n",
    "                self.train(memory)\n",
    "            \n",
    "            if (iteration + 1) % self.args['save_interval'] == 0:\n",
    "                torch.save(self.model.state_dict(), f\"n3il_6_attempt_2_iter_10_selfplay_500_model_{iteration}.pt\")\n",
    "                torch.save(self.optimizer.state_dict(), f\"n3il_6_attempt_2_iter_10_selfplay_optimizer_{iteration}.pt\")"
   ]
  },
  {
   "cell_type": "code",
   "execution_count": 60,
   "id": "acbddfc8",
   "metadata": {},
   "outputs": [
    {
     "name": "stdout",
     "output_type": "stream",
     "text": [
      "GPU: False\n",
      "----------------------------------------------------------------\n",
      "        Layer (type)               Output Shape         Param #\n",
      "================================================================\n",
      "            Conv2d-1             [-1, 64, 3, 3]           1,216\n",
      "       BatchNorm2d-2             [-1, 64, 3, 3]             128\n",
      "              ReLU-3             [-1, 64, 3, 3]               0\n",
      "            Conv2d-4             [-1, 64, 3, 3]          36,928\n",
      "       BatchNorm2d-5             [-1, 64, 3, 3]             128\n",
      "            Conv2d-6             [-1, 64, 3, 3]          36,928\n",
      "       BatchNorm2d-7             [-1, 64, 3, 3]             128\n",
      "          ResBlock-8             [-1, 64, 3, 3]               0\n",
      "            Conv2d-9             [-1, 64, 3, 3]          36,928\n",
      "      BatchNorm2d-10             [-1, 64, 3, 3]             128\n",
      "           Conv2d-11             [-1, 64, 3, 3]          36,928\n",
      "      BatchNorm2d-12             [-1, 64, 3, 3]             128\n",
      "         ResBlock-13             [-1, 64, 3, 3]               0\n",
      "           Conv2d-14             [-1, 64, 3, 3]          36,928\n",
      "      BatchNorm2d-15             [-1, 64, 3, 3]             128\n",
      "           Conv2d-16             [-1, 64, 3, 3]          36,928\n",
      "      BatchNorm2d-17             [-1, 64, 3, 3]             128\n",
      "         ResBlock-18             [-1, 64, 3, 3]               0\n",
      "           Conv2d-19             [-1, 64, 3, 3]          36,928\n",
      "      BatchNorm2d-20             [-1, 64, 3, 3]             128\n",
      "           Conv2d-21             [-1, 64, 3, 3]          36,928\n",
      "      BatchNorm2d-22             [-1, 64, 3, 3]             128\n",
      "         ResBlock-23             [-1, 64, 3, 3]               0\n",
      "           Conv2d-24             [-1, 32, 3, 3]          18,464\n",
      "      BatchNorm2d-25             [-1, 32, 3, 3]              64\n",
      "             ReLU-26             [-1, 32, 3, 3]               0\n",
      "          Flatten-27                  [-1, 288]               0\n",
      "           Linear-28                    [-1, 9]           2,601\n",
      "           Conv2d-29              [-1, 2, 3, 3]           1,154\n",
      "      BatchNorm2d-30              [-1, 2, 3, 3]               4\n",
      "             ReLU-31              [-1, 2, 3, 3]               0\n",
      "          Flatten-32                   [-1, 18]               0\n",
      "           Linear-33                    [-1, 1]              19\n",
      "             Tanh-34                    [-1, 1]               0\n",
      "================================================================\n",
      "Total params: 320,098\n",
      "Trainable params: 320,098\n",
      "Non-trainable params: 0\n",
      "----------------------------------------------------------------\n",
      "Input size (MB): 0.00\n",
      "Forward/backward pass size (MB): 0.11\n",
      "Params size (MB): 1.22\n",
      "Estimated Total Size (MB): 1.33\n",
      "----------------------------------------------------------------\n"
     ]
    }
   ],
   "source": [
    "from torchsummary import summary\n",
    "\n",
    "n = 3\n",
    "\n",
    "n3il_test = N3il(grid_size=(n,n))\n",
    "\n",
    "args = {\n",
    "    'C': 1.41,\n",
    "    'num_searches': 1000\n",
    "}\n",
    "\n",
    "device = torch.device(\"cuda\" if torch.cuda.is_available() else \"cpu\")\n",
    "print(\"GPU:\", torch.cuda.is_available())\n",
    "model_test = ResNet(n3il_test, 4, 64, device)\n",
    "summary(model_test, input_size=(2, n, n))"
   ]
  },
  {
   "cell_type": "code",
   "execution_count": 61,
   "id": "97594a57",
   "metadata": {},
   "outputs": [
    {
     "data": {
      "application/vnd.jupyter.widget-view+json": {
       "model_id": "85e20b3460b84876bf10b07d2956d4ee",
       "version_major": 2,
       "version_minor": 0
      },
      "text/plain": [
       "  0%|          | 0/500 [00:00<?, ?it/s]"
      ]
     },
     "metadata": {},
     "output_type": "display_data"
    },
    {
     "data": {
      "application/vnd.jupyter.widget-view+json": {
       "model_id": "1ceba342a0b149c1a6944b78569423b2",
       "version_major": 2,
       "version_minor": 0
      },
      "text/plain": [
       "  0%|          | 0/4 [00:00<?, ?it/s]"
      ]
     },
     "metadata": {},
     "output_type": "display_data"
    },
    {
     "data": {
      "application/vnd.jupyter.widget-view+json": {
       "model_id": "d1bb4f189f7040daa3342be4f659a441",
       "version_major": 2,
       "version_minor": 0
      },
      "text/plain": [
       "  0%|          | 0/500 [00:00<?, ?it/s]"
      ]
     },
     "metadata": {},
     "output_type": "display_data"
    },
    {
     "data": {
      "application/vnd.jupyter.widget-view+json": {
       "model_id": "2acc76b0e02648ad80a9ea0253caeb0b",
       "version_major": 2,
       "version_minor": 0
      },
      "text/plain": [
       "  0%|          | 0/4 [00:00<?, ?it/s]"
      ]
     },
     "metadata": {},
     "output_type": "display_data"
    },
    {
     "data": {
      "application/vnd.jupyter.widget-view+json": {
       "model_id": "87b03ee89bd848dc9eef695b257c0bfc",
       "version_major": 2,
       "version_minor": 0
      },
      "text/plain": [
       "  0%|          | 0/500 [00:00<?, ?it/s]"
      ]
     },
     "metadata": {},
     "output_type": "display_data"
    },
    {
     "data": {
      "application/vnd.jupyter.widget-view+json": {
       "model_id": "240a590affc34ca1b2d9f9f845d19ffc",
       "version_major": 2,
       "version_minor": 0
      },
      "text/plain": [
       "  0%|          | 0/4 [00:00<?, ?it/s]"
      ]
     },
     "metadata": {},
     "output_type": "display_data"
    },
    {
     "data": {
      "application/vnd.jupyter.widget-view+json": {
       "model_id": "91a1bd3496d943558bf77f3de7ebf86f",
       "version_major": 2,
       "version_minor": 0
      },
      "text/plain": [
       "  0%|          | 0/500 [00:00<?, ?it/s]"
      ]
     },
     "metadata": {},
     "output_type": "display_data"
    },
    {
     "data": {
      "application/vnd.jupyter.widget-view+json": {
       "model_id": "5d21093ee55d4de0841c560547ae7dec",
       "version_major": 2,
       "version_minor": 0
      },
      "text/plain": [
       "  0%|          | 0/4 [00:00<?, ?it/s]"
      ]
     },
     "metadata": {},
     "output_type": "display_data"
    },
    {
     "data": {
      "application/vnd.jupyter.widget-view+json": {
       "model_id": "f07b62acd68444e09e4083ab9cb92a9b",
       "version_major": 2,
       "version_minor": 0
      },
      "text/plain": [
       "  0%|          | 0/500 [00:00<?, ?it/s]"
      ]
     },
     "metadata": {},
     "output_type": "display_data"
    },
    {
     "data": {
      "application/vnd.jupyter.widget-view+json": {
       "model_id": "1cc76ec0e25b417899f8ed79b2aa0b79",
       "version_major": 2,
       "version_minor": 0
      },
      "text/plain": [
       "  0%|          | 0/4 [00:00<?, ?it/s]"
      ]
     },
     "metadata": {},
     "output_type": "display_data"
    },
    {
     "data": {
      "application/vnd.jupyter.widget-view+json": {
       "model_id": "b0363d762b144c53ab3f3bb6a09ebf72",
       "version_major": 2,
       "version_minor": 0
      },
      "text/plain": [
       "  0%|          | 0/500 [00:00<?, ?it/s]"
      ]
     },
     "metadata": {},
     "output_type": "display_data"
    },
    {
     "data": {
      "application/vnd.jupyter.widget-view+json": {
       "model_id": "af0edf9959c24026af23d0aa7eb3618e",
       "version_major": 2,
       "version_minor": 0
      },
      "text/plain": [
       "  0%|          | 0/4 [00:00<?, ?it/s]"
      ]
     },
     "metadata": {},
     "output_type": "display_data"
    },
    {
     "data": {
      "application/vnd.jupyter.widget-view+json": {
       "model_id": "2814c1d681e342cdb5ae098776f8aef7",
       "version_major": 2,
       "version_minor": 0
      },
      "text/plain": [
       "  0%|          | 0/500 [00:00<?, ?it/s]"
      ]
     },
     "metadata": {},
     "output_type": "display_data"
    },
    {
     "data": {
      "application/vnd.jupyter.widget-view+json": {
       "model_id": "e3a4370310044833a410da6c5eee04f4",
       "version_major": 2,
       "version_minor": 0
      },
      "text/plain": [
       "  0%|          | 0/4 [00:00<?, ?it/s]"
      ]
     },
     "metadata": {},
     "output_type": "display_data"
    },
    {
     "data": {
      "application/vnd.jupyter.widget-view+json": {
       "model_id": "9b47a1af050e4e5895977a86fcefe3e3",
       "version_major": 2,
       "version_minor": 0
      },
      "text/plain": [
       "  0%|          | 0/500 [00:00<?, ?it/s]"
      ]
     },
     "metadata": {},
     "output_type": "display_data"
    },
    {
     "data": {
      "application/vnd.jupyter.widget-view+json": {
       "model_id": "b02a33a821d4435caa3766849cef2ae7",
       "version_major": 2,
       "version_minor": 0
      },
      "text/plain": [
       "  0%|          | 0/4 [00:00<?, ?it/s]"
      ]
     },
     "metadata": {},
     "output_type": "display_data"
    },
    {
     "data": {
      "application/vnd.jupyter.widget-view+json": {
       "model_id": "881b2d9c6f1e40238373af6b88fc219d",
       "version_major": 2,
       "version_minor": 0
      },
      "text/plain": [
       "  0%|          | 0/500 [00:00<?, ?it/s]"
      ]
     },
     "metadata": {},
     "output_type": "display_data"
    },
    {
     "data": {
      "application/vnd.jupyter.widget-view+json": {
       "model_id": "20b78085b2a34491813598232553b820",
       "version_major": 2,
       "version_minor": 0
      },
      "text/plain": [
       "  0%|          | 0/4 [00:00<?, ?it/s]"
      ]
     },
     "metadata": {},
     "output_type": "display_data"
    },
    {
     "data": {
      "application/vnd.jupyter.widget-view+json": {
       "model_id": "ececcd5b3bbf4936bafcbefb3a7924e8",
       "version_major": 2,
       "version_minor": 0
      },
      "text/plain": [
       "  0%|          | 0/500 [00:00<?, ?it/s]"
      ]
     },
     "metadata": {},
     "output_type": "display_data"
    },
    {
     "data": {
      "application/vnd.jupyter.widget-view+json": {
       "model_id": "3d681f71aa294ff5a98a140929c8ce26",
       "version_major": 2,
       "version_minor": 0
      },
      "text/plain": [
       "  0%|          | 0/4 [00:00<?, ?it/s]"
      ]
     },
     "metadata": {},
     "output_type": "display_data"
    }
   ],
   "source": [
    "n = 3\n",
    "\n",
    "n3il = N3il(grid_size=(n,n))\n",
    "\n",
    "device = torch.device(\"cuda\" if torch.cuda.is_available() else \"cpu\")\n",
    "\n",
    "model = ResNet(n3il, 4, 64, device).to(device)\n",
    "\n",
    "optimizer = torch.optim.Adam(model.parameters(), lr=0.001)\n",
    "\n",
    "args = {\n",
    "    'C': 2,\n",
    "    'num_searches': 60,\n",
    "    'num_iterations': 10,\n",
    "    'num_selfPlay_iterations': 500,\n",
    "    'num_epochs': 4,\n",
    "    'batch_size': 64,\n",
    "    'save_interval': 1\n",
    "}\n",
    "\n",
    "alphaZero = AlphaZero(model, optimizer, n3il, args)\n",
    "alphaZero.learn()"
   ]
  },
  {
   "cell_type": "code",
   "execution_count": 80,
   "id": "6df96acc",
   "metadata": {},
   "outputs": [
    {
     "name": "stdout",
     "output_type": "stream",
     "text": [
      "0.9977911710739136\n",
      "[[0. 1. 1.]\n",
      " [1. 0. 0.]\n",
      " [1. 0. 0.]]\n",
      "tensor([[[[1., 0., 0.],\n",
      "          [0., 1., 1.],\n",
      "          [0., 1., 1.]],\n",
      "\n",
      "         [[0., 1., 1.],\n",
      "          [1., 0., 0.],\n",
      "          [1., 0., 0.]]]])\n",
      "[[0.18775974 0.08124418 0.06722038]\n",
      " [0.10152418 0.11681462 0.11323714]\n",
      " [0.08183872 0.13229105 0.11807009]]\n"
     ]
    },
    {
     "data": {
      "image/png": "[encoded data removed]",
      "text/plain": [
       "<Figure size 640x480 with 2 Axes>"
      ]
     },
     "metadata": {},
     "output_type": "display_data"
    }
   ],
   "source": [
    "n = 3\n",
    "device = torch.device(\"cuda\" if torch.cuda.is_available() else \"cpu\")\n",
    "\n",
    "n3il_result = N3il(grid_size=(n,n))\n",
    "\n",
    "state = np.array([\n",
    "    [0., 1., 1.],\n",
    "    [1., 0., 0.],\n",
    "    [1., 0., 0.]])\n",
    "\n",
    "encoded_state = n3il_result.get_encoded_state(state)\n",
    "tensor_state = torch.tensor(encoded_state, device=device).unsqueeze(0)\n",
    "\n",
    "model_result = ResNet(n3il_result, 4, 64, device=device)\n",
    "model_result.load_state_dict(torch.load('n3il_6_attempt_2_iter_10_selfplay_500_model_3.pt', map_location=device))\n",
    "model_result.eval()\n",
    "\n",
    "policy, value = model_result(tensor_state)\n",
    "value = value.item()\n",
    "policy = torch.softmax(policy, axis=1).squeeze(0).detach().cpu().numpy()\n",
    "policy_2d = policy.reshape(n, n)\n",
    "\n",
    "print(value)\n",
    "\n",
    "print(state)\n",
    "print(tensor_state)\n",
    "print(policy_2d)\n",
    "\n",
    "plt.imshow(policy_2d, cmap='Blues', interpolation='nearest')\n",
    "plt.colorbar(label='Action Probability')\n",
    "plt.title(\"Policy Heatmap\")\n",
    "plt.xlabel(\"Column\")\n",
    "plt.ylabel(\"Row\")\n",
    "plt.show()"
   ]
  },
  {
   "cell_type": "code",
   "execution_count": 8,
   "id": "6822b77a",
   "metadata": {},
   "outputs": [
    {
     "name": "stdout",
     "output_type": "stream",
     "text": [
      "---------------------------\n",
      "Number of points: 0\n",
      "[[0. 0. 0. 0. 0.]\n",
      " [0. 0. 0. 0. 0.]\n",
      " [0. 0. 0. 0. 0.]\n",
      " [0. 0. 0. 0. 0.]\n",
      " [0. 0. 0. 0. 0.]]\n",
      "---------------------------\n",
      "Number of points: 1\n",
      "[[0. 1. 0. 0. 0.]\n",
      " [0. 0. 0. 0. 0.]\n",
      " [0. 0. 0. 0. 0.]\n",
      " [0. 0. 0. 0. 0.]\n",
      " [0. 0. 0. 0. 0.]]\n",
      "---------------------------\n",
      "Number of points: 2\n",
      "[[0. 1. 0. 0. 0.]\n",
      " [0. 0. 0. 0. 0.]\n",
      " [0. 0. 0. 0. 0.]\n",
      " [1. 0. 0. 0. 0.]\n",
      " [0. 0. 0. 0. 0.]]\n",
      "---------------------------\n",
      "Number of points: 3\n",
      "[[0. 1. 0. 0. 0.]\n",
      " [0. 0. 0. 1. 0.]\n",
      " [0. 0. 0. 0. 0.]\n",
      " [1. 0. 0. 0. 0.]\n",
      " [0. 0. 0. 0. 0.]]\n",
      "---------------------------\n",
      "Number of points: 4\n",
      "[[0. 1. 0. 0. 0.]\n",
      " [0. 0. 0. 1. 0.]\n",
      " [1. 0. 0. 0. 0.]\n",
      " [1. 0. 0. 0. 0.]\n",
      " [0. 0. 0. 0. 0.]]\n",
      "---------------------------\n",
      "Number of points: 5\n",
      "[[0. 1. 1. 0. 0.]\n",
      " [0. 0. 0. 1. 0.]\n",
      " [1. 0. 0. 0. 0.]\n",
      " [1. 0. 0. 0. 0.]\n",
      " [0. 0. 0. 0. 0.]]\n",
      "---------------------------\n",
      "Number of points: 6\n",
      "[[0. 1. 1. 0. 0.]\n",
      " [0. 0. 0. 1. 1.]\n",
      " [1. 0. 0. 0. 0.]\n",
      " [1. 0. 0. 0. 0.]\n",
      " [0. 0. 0. 0. 0.]]\n",
      "---------------------------\n",
      "Number of points: 7\n",
      "[[0. 1. 1. 0. 0.]\n",
      " [0. 0. 0. 1. 1.]\n",
      " [1. 1. 0. 0. 0.]\n",
      " [1. 0. 0. 0. 0.]\n",
      " [0. 0. 0. 0. 0.]]\n",
      "*******************************************************************\n",
      "Trial Terminated with 7 points. Final valid configuration:\n",
      "[[0. 1. 1. 0. 0.]\n",
      " [0. 0. 0. 1. 1.]\n",
      " [1. 1. 0. 0. 0.]\n",
      " [1. 0. 0. 0. 0.]\n",
      " [0. 0. 0. 0. 0.]]\n"
     ]
    },
    {
     "data": {
      "image/png": "[encoded data removed]",
      "text/plain": [
       "<Figure size 600x600 with 1 Axes>"
      ]
     },
     "metadata": {},
     "output_type": "display_data"
    },
    {
     "name": "stdout",
     "output_type": "stream",
     "text": [
      "The point you give causes 1 triples of 3 points collinear:\n",
      "[[0. 1. 1. 0. 1.]\n",
      " [0. 0. 0. 1. 1.]\n",
      " [1. 1. 0. 0. 0.]\n",
      " [1. 0. 0. 0. 0.]\n",
      " [0. 0. 0. 0. 0.]]\n"
     ]
    },
    {
     "data": {
      "image/png": "[encoded data removed]",
      "text/plain": [
       "<Figure size 600x600 with 1 Axes>"
      ]
     },
     "metadata": {},
     "output_type": "display_data"
    }
   ],
   "source": [
    "n = 5\n",
    "\n",
    "n3il = N3il(grid_size=(n,n))\n",
    "\n",
    "args = {\n",
    "    'C': 1.41,\n",
    "    'num_searches': 1000\n",
    "}\n",
    "\n",
    "model = ResNet(n3il, 4, 64)\n",
    "model.eval()\n",
    "\n",
    "mcts = MCTS(n3il, args, model)\n",
    "\n",
    "state = n3il.get_initial_state()\n",
    "num_of_points = 0\n",
    "\n",
    "while True:\n",
    "    print(\"---------------------------\")\n",
    "    print(f\"Number of points: {num_of_points}\")\n",
    "    print(state)\n",
    "    # n3il.display_state(state)\n",
    "\n",
    "    mcts_probs = mcts.search(state)\n",
    "    action = np.argmax(mcts_probs)\n",
    "\n",
    "    '''\n",
    "    valid_moves = n3il.get_valid_moves(state)\n",
    "    list_valid_moves = [i for i in range(n3il.action_size) if valid_moves[i] == 1]\n",
    "    print(\"valid moves: \", list_valid_moves)\n",
    "    \n",
    "    action = int(input(\"Please give a point: \"))\n",
    "    if action not in list_valid_moves:\n",
    "        print(\"This spot is occupied. Action is not valid.\")\n",
    "        continue\n",
    "    '''\n",
    "\n",
    "    n_of_collinear_triples = n3il.check_collinear(state, action)\n",
    "\n",
    "    if n_of_collinear_triples > 0:\n",
    "        # value, _ = n3il.get_value_and_terminated(state)\n",
    "        print(\"*******************************************************************\")\n",
    "        print(f\"Trial Terminated with {num_of_points} points. Final valid configuration:\")\n",
    "        print(state)\n",
    "        n3il.display_state(state)\n",
    "        print(f\"The point you give causes {n_of_collinear_triples} triples of 3 points collinear:\")\n",
    "        print(n3il.get_next_state(state, action))\n",
    "        n3il.display_state(n3il.get_next_state(state, action))\n",
    "\n",
    "        break\n",
    "    \n",
    "    num_of_points += 1\n",
    "    state = n3il.get_next_state(state, action)"
   ]
  },
  {
   "cell_type": "code",
   "execution_count": null,
   "id": "6750a083",
   "metadata": {},
   "outputs": [],
   "source": []
  }
 ],
 "metadata": {
  "kernelspec": {
   "display_name": "base",
   "language": "python",
   "name": "python3"
  },
  "language_info": {
   "codemirror_mode": {
    "name": "ipython",
    "version": 3
   },
   "file_extension": ".py",
   "mimetype": "text/x-python",
   "name": "python",
   "nbconvert_exporter": "python",
   "pygments_lexer": "ipython3",
   "version": "3.10.9"
  }
 },
 "nbformat": 4,
 "nbformat_minor": 5
}
