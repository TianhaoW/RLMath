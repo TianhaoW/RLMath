{
 "cells": [
  {
   "cell_type": "code",
   "execution_count": 5,
   "id": "11bd4d36",
   "metadata": {},
   "outputs": [],
   "source": [
    "import numpy as np\n",
    "from itertools import combinations\n",
    "import math\n",
    "from tqdm.notebook import trange"
   ]
  },
  {
   "cell_type": "code",
   "execution_count": 6,
   "id": "c9634873",
   "metadata": {},
   "outputs": [],
   "source": [
    "def are_collinear(p1, p2, p3):\n",
    "  \"\"\"Returns True if the three points are collinear.\"\"\"\n",
    "  \"\"\"Adapt from https://github.com/kitft/funsearch\"\"\"\n",
    "  x1, y1 = p1\n",
    "  x2, y2 = p2\n",
    "  x3, y3 = p3\n",
    "  return (y1 - y2) * (x1 - x3) == (y1 - y3) * (x1 - x2)\n",
    "\n",
    "class N3il: # Class of No-3-In-Line\n",
    "    def __init__(self, grid_size):\n",
    "        self.row_count = grid_size[0]\n",
    "        self.column_count = grid_size[1]\n",
    "        self.action_size = self.row_count * self.column_count\n",
    "    \n",
    "    def get_initial_state(self):\n",
    "        return np.zeros((self.row_count, self.column_count))\n",
    "    \n",
    "    def get_next_state(self, state, action):\n",
    "        row = action // self.column_count\n",
    "        column = action % self.column_count\n",
    "        state[row, column] = 1\n",
    "\n",
    "        return state\n",
    "    \n",
    "    def get_valid_moves(self, state):\n",
    "        return (state.reshape(-1) == 0).astype(np.uint8)\n",
    "    \n",
    "    def check_collinear(self, state, action):\n",
    "        row = action // self.column_count\n",
    "        column = action % self.column_count\n",
    "        state_next = state.copy()\n",
    "        state_next[row, column] = 1\n",
    "\n",
    "        # Get the coordinates of all points with value 1\n",
    "        coords = np.argwhere(state_next == 1) \n",
    "        # Convert to list of tuples (optional)\n",
    "        # coord_list = [tuple(coord) for coord in coords]\n",
    "        # Get all combinations of 3 points\n",
    "        triples = list(combinations(coords, 3))\n",
    "\n",
    "        number_of_collinear_triples = 0 \n",
    "        # CONSIDER give configs with more collinear triples more \"punishment\"\n",
    "        # But it may not be a good idea, consider in 3x3 case, when we got\n",
    "        # 6 points, adding a points would results in 3 triples collinear, but\n",
    "        # it doesn't mean the config of 6 points is not good.\n",
    "        for triple in triples:\n",
    "            if are_collinear(triple[0], triple[1], triple[2]):\n",
    "                number_of_collinear_triples += 1\n",
    "        \n",
    "        return number_of_collinear_triples\n",
    "    \n",
    "    def get_value_and_terminated(self, state):\n",
    "        value = np.sum(state.reshape(-1) == 1)\n",
    "        return value, True # Return TRUE if the configuration involves any 3 points collinear"
   ]
  },
  {
   "cell_type": "code",
   "execution_count": 7,
   "id": "a383a4c0",
   "metadata": {},
   "outputs": [],
   "source": [
    "'''\n",
    "Adapt from\n",
    "foersterrobert/AlphaZeroFromScratch\n",
    "'''\n",
    "\n",
    "class Node:\n",
    "    def __init__(self, game, args, state, parent=None, action_taken=None):\n",
    "        self.game = game\n",
    "        self.args = args\n",
    "        self.state = state\n",
    "        self.parent = parent\n",
    "        self.action_taken = action_taken\n",
    "\n",
    "        self.children = []\n",
    "        self.expandable_moves = game.get_valid_moves(state)\n",
    "\n",
    "        self.visit_count = 0\n",
    "        self.value_sum = 0\n",
    "\n",
    "    def is_fully_expanded(self):\n",
    "        return np.sum(self.expandable_moves) == 0 and len(self.children) > 0\n",
    "    \n",
    "    def select(self):\n",
    "        best_child = None\n",
    "        best_ucb = -np.inf\n",
    "\n",
    "        for child in self.children:\n",
    "            ucb= self.get_ucb(child)\n",
    "            if ucb > best_ucb:\n",
    "                best_child = child\n",
    "                best_ucb = ucb\n",
    "        \n",
    "        return best_child\n",
    "    \n",
    "    def get_ucb(self, child):\n",
    "        q_value = child.value_sum / child.visit_count\n",
    "        return q_value + self.args['C'] * math.sqrt(math.log(self.visit_count) / child.visit_count)\n",
    "\n",
    "    def expand(self):\n",
    "        action = np.random.choice(np.where(self.expandable_moves == 1)[0])\n",
    "        self.expandable_moves[action] = 0\n",
    "\n",
    "        child_state = self.state.copy()\n",
    "        child_state = self.game.get_next_state(child_state, action)\n",
    "\n",
    "        child = Node(self.game, self.args, child_state, self, action)\n",
    "        self.children.append(child)\n",
    "        return child\n",
    "    \n",
    "    def simulate(self):\n",
    "        has_collinear = self.game.check_collinear(self.parent.state, self.action_taken)\n",
    "        # value, _ = self.game.get_value_and_terminated(self.state)\n",
    "\n",
    "        if has_collinear > 0:\n",
    "            value, _ = self.game.get_value_and_terminated(self.parent.state)\n",
    "            return value\n",
    "            # return 0 # think about this part\n",
    "        \n",
    "        rollout_state = self.state.copy()\n",
    "\n",
    "        while True:\n",
    "            valid_moves = self.game.get_valid_moves(rollout_state)\n",
    "            action = np.random.choice(np.where(valid_moves == 1)[0])\n",
    "\n",
    "            has_collinear = self.game.check_collinear(rollout_state, action)\n",
    "            \n",
    "            if has_collinear > 0:\n",
    "                value, _ = self.game.get_value_and_terminated(rollout_state)\n",
    "                return value\n",
    "            \n",
    "            rollout_state = self.game.get_next_state(rollout_state, action)\n",
    "\n",
    "    def backpropagate(self, value):\n",
    "        self.value_sum += value\n",
    "        self.visit_count += 1\n",
    "\n",
    "        if self.parent is not None:\n",
    "            self.parent.backpropagate(value)\n",
    "\n",
    "class MCTS:\n",
    "    def __init__(self, game, args={\n",
    "        'num_searches': 1000,\n",
    "        'C': 1.4\n",
    "    }):\n",
    "        self.game = game\n",
    "        self.args = args\n",
    "\n",
    "    def search(self, state):\n",
    "        # define root\n",
    "        root = Node(self.game, self.args, state)\n",
    "\n",
    "        for search in trange(self.args['num_searches']):\n",
    "            node = root\n",
    "\n",
    "            # selection\n",
    "            while node.is_fully_expanded():\n",
    "                node = node.select()\n",
    "\n",
    "            if node.action_taken is not None:\n",
    "                has_collinear = self.game.check_collinear(node.state, node.action_taken)\n",
    "                value, _ = self.game.get_value_and_terminated(node.state)\n",
    "\n",
    "                if has_collinear == 0:\n",
    "                    node = node.expand()\n",
    "                    value = node.simulate()\n",
    "            else:\n",
    "                node = node.expand()\n",
    "                value = node.simulate()\n",
    "\n",
    "            node.backpropagate(value)\n",
    "\n",
    "        action_probs = np.zeros(self.game.action_size)\n",
    "        for child in root.children:\n",
    "            action_probs[child.action_taken] = child.visit_count\n",
    "        action_probs /= np.sum(action_probs)\n",
    "        return action_probs\n",
    "            \n",
    "            # expansion\n",
    "            # simulation\n",
    "            # backpropagation\n",
    "\n",
    "        # return visit_counts"
   ]
  },
  {
   "cell_type": "code",
   "execution_count": 9,
   "id": "6822b77a",
   "metadata": {},
   "outputs": [
    {
     "name": "stdout",
     "output_type": "stream",
     "text": [
      "---------------------------\n",
      "Number of points: 0\n",
      "[[0. 0. 0. 0. 0.]\n",
      " [0. 0. 0. 0. 0.]\n",
      " [0. 0. 0. 0. 0.]\n",
      " [0. 0. 0. 0. 0.]\n",
      " [0. 0. 0. 0. 0.]]\n"
     ]
    },
    {
     "data": {
      "application/vnd.jupyter.widget-view+json": {
       "model_id": "80029e9dc4ea48d6b72d6e667369b861",
       "version_major": 2,
       "version_minor": 0
      },
      "text/plain": [
       "  0%|          | 0/1000 [00:00<?, ?it/s]"
      ]
     },
     "metadata": {},
     "output_type": "display_data"
    },
    {
     "name": "stdout",
     "output_type": "stream",
     "text": [
      "---------------------------\n",
      "Number of points: 1\n",
      "[[0. 0. 0. 0. 0.]\n",
      " [0. 0. 0. 1. 0.]\n",
      " [0. 0. 0. 0. 0.]\n",
      " [0. 0. 0. 0. 0.]\n",
      " [0. 0. 0. 0. 0.]]\n"
     ]
    },
    {
     "data": {
      "application/vnd.jupyter.widget-view+json": {
       "model_id": "bcf6fa6e88fd4e73a48588f53d0268ae",
       "version_major": 2,
       "version_minor": 0
      },
      "text/plain": [
       "  0%|          | 0/1000 [00:00<?, ?it/s]"
      ]
     },
     "metadata": {},
     "output_type": "display_data"
    },
    {
     "name": "stdout",
     "output_type": "stream",
     "text": [
      "---------------------------\n",
      "Number of points: 2\n",
      "[[0. 0. 0. 0. 0.]\n",
      " [0. 0. 0. 1. 0.]\n",
      " [0. 0. 0. 0. 0.]\n",
      " [0. 0. 0. 0. 1.]\n",
      " [0. 0. 0. 0. 0.]]\n"
     ]
    },
    {
     "data": {
      "application/vnd.jupyter.widget-view+json": {
       "model_id": "9a2fab854637488b9ecdc8f2832e6e3e",
       "version_major": 2,
       "version_minor": 0
      },
      "text/plain": [
       "  0%|          | 0/1000 [00:00<?, ?it/s]"
      ]
     },
     "metadata": {},
     "output_type": "display_data"
    },
    {
     "name": "stdout",
     "output_type": "stream",
     "text": [
      "---------------------------\n",
      "Number of points: 3\n",
      "[[0. 0. 0. 0. 0.]\n",
      " [0. 0. 0. 1. 0.]\n",
      " [0. 0. 0. 0. 0.]\n",
      " [0. 0. 0. 0. 1.]\n",
      " [0. 1. 0. 0. 0.]]\n"
     ]
    },
    {
     "data": {
      "application/vnd.jupyter.widget-view+json": {
       "model_id": "5a978c2bc75a465db8e64243ddc5f522",
       "version_major": 2,
       "version_minor": 0
      },
      "text/plain": [
       "  0%|          | 0/1000 [00:00<?, ?it/s]"
      ]
     },
     "metadata": {},
     "output_type": "display_data"
    },
    {
     "name": "stdout",
     "output_type": "stream",
     "text": [
      "---------------------------\n",
      "Number of points: 4\n",
      "[[1. 0. 0. 0. 0.]\n",
      " [0. 0. 0. 1. 0.]\n",
      " [0. 0. 0. 0. 0.]\n",
      " [0. 0. 0. 0. 1.]\n",
      " [0. 1. 0. 0. 0.]]\n"
     ]
    },
    {
     "data": {
      "application/vnd.jupyter.widget-view+json": {
       "model_id": "6b48d86a8ff54e068d27a4fb2fd24312",
       "version_major": 2,
       "version_minor": 0
      },
      "text/plain": [
       "  0%|          | 0/1000 [00:00<?, ?it/s]"
      ]
     },
     "metadata": {},
     "output_type": "display_data"
    },
    {
     "name": "stdout",
     "output_type": "stream",
     "text": [
      "---------------------------\n",
      "Number of points: 5\n",
      "[[1. 0. 1. 0. 0.]\n",
      " [0. 0. 0. 1. 0.]\n",
      " [0. 0. 0. 0. 0.]\n",
      " [0. 0. 0. 0. 1.]\n",
      " [0. 1. 0. 0. 0.]]\n"
     ]
    },
    {
     "data": {
      "application/vnd.jupyter.widget-view+json": {
       "model_id": "347dbd48998d4fe0aca25583bd914fa0",
       "version_major": 2,
       "version_minor": 0
      },
      "text/plain": [
       "  0%|          | 0/1000 [00:00<?, ?it/s]"
      ]
     },
     "metadata": {},
     "output_type": "display_data"
    },
    {
     "name": "stdout",
     "output_type": "stream",
     "text": [
      "---------------------------\n",
      "Number of points: 6\n",
      "[[1. 0. 1. 0. 0.]\n",
      " [0. 0. 0. 1. 0.]\n",
      " [1. 0. 0. 0. 0.]\n",
      " [0. 0. 0. 0. 1.]\n",
      " [0. 1. 0. 0. 0.]]\n"
     ]
    },
    {
     "data": {
      "application/vnd.jupyter.widget-view+json": {
       "model_id": "505d20ef87e24c21a1e0460fcf5154d9",
       "version_major": 2,
       "version_minor": 0
      },
      "text/plain": [
       "  0%|          | 0/1000 [00:00<?, ?it/s]"
      ]
     },
     "metadata": {},
     "output_type": "display_data"
    },
    {
     "name": "stdout",
     "output_type": "stream",
     "text": [
      "---------------------------\n",
      "Number of points: 7\n",
      "[[1. 0. 1. 0. 0.]\n",
      " [0. 0. 0. 1. 1.]\n",
      " [1. 0. 0. 0. 0.]\n",
      " [0. 0. 0. 0. 1.]\n",
      " [0. 1. 0. 0. 0.]]\n"
     ]
    },
    {
     "data": {
      "application/vnd.jupyter.widget-view+json": {
       "model_id": "59b380a3768b44b7b95f039bdfa92fc4",
       "version_major": 2,
       "version_minor": 0
      },
      "text/plain": [
       "  0%|          | 0/1000 [00:00<?, ?it/s]"
      ]
     },
     "metadata": {},
     "output_type": "display_data"
    },
    {
     "name": "stdout",
     "output_type": "stream",
     "text": [
      "---------------------------\n",
      "Number of points: 8\n",
      "[[1. 0. 1. 0. 0.]\n",
      " [0. 0. 0. 1. 1.]\n",
      " [1. 0. 0. 0. 0.]\n",
      " [0. 0. 0. 0. 1.]\n",
      " [0. 1. 0. 1. 0.]]\n"
     ]
    },
    {
     "data": {
      "application/vnd.jupyter.widget-view+json": {
       "model_id": "f0cee2eb24684a11985cb1ed313c0654",
       "version_major": 2,
       "version_minor": 0
      },
      "text/plain": [
       "  0%|          | 0/1000 [00:00<?, ?it/s]"
      ]
     },
     "metadata": {},
     "output_type": "display_data"
    },
    {
     "name": "stdout",
     "output_type": "stream",
     "text": [
      "---------------------------\n",
      "Number of points: 9\n",
      "[[1. 0. 1. 0. 0.]\n",
      " [0. 0. 0. 1. 1.]\n",
      " [1. 0. 0. 0. 0.]\n",
      " [0. 1. 0. 0. 1.]\n",
      " [0. 1. 0. 1. 0.]]\n"
     ]
    },
    {
     "data": {
      "application/vnd.jupyter.widget-view+json": {
       "model_id": "295795c8c7e043289539d1b2c247c545",
       "version_major": 2,
       "version_minor": 0
      },
      "text/plain": [
       "  0%|          | 0/1000 [00:00<?, ?it/s]"
      ]
     },
     "metadata": {},
     "output_type": "display_data"
    },
    {
     "name": "stdout",
     "output_type": "stream",
     "text": [
      "*******************************************************************\n",
      "Trial Terminated with 9 points. Final valid configuration:\n",
      "[[1. 0. 1. 0. 0.]\n",
      " [0. 0. 0. 1. 1.]\n",
      " [1. 0. 0. 0. 0.]\n",
      " [0. 1. 0. 0. 1.]\n",
      " [0. 1. 0. 1. 0.]]\n",
      "The point you give causes 2 triples of 3 points collinear:\n",
      "[[1. 1. 1. 0. 0.]\n",
      " [0. 0. 0. 1. 1.]\n",
      " [1. 0. 0. 0. 0.]\n",
      " [0. 1. 0. 0. 1.]\n",
      " [0. 1. 0. 1. 0.]]\n"
     ]
    }
   ],
   "source": [
    "n3il = N3il(grid_size=(5,5))\n",
    "\n",
    "args = {\n",
    "    'C': 1.41,\n",
    "    'num_searches': 1000\n",
    "}\n",
    "\n",
    "mcts = MCTS(n3il, args)\n",
    "\n",
    "state = n3il.get_initial_state()\n",
    "num_of_points = 0\n",
    "\n",
    "while True:\n",
    "    print(\"---------------------------\")\n",
    "    print(f\"Number of points: {num_of_points}\")\n",
    "    print(state)\n",
    "\n",
    "    mcts_probs = mcts.search(state)\n",
    "    action = np.argmax(mcts_probs)\n",
    "\n",
    "    '''\n",
    "    valid_moves = n3il.get_valid_moves(state)\n",
    "    list_valid_moves = [i for i in range(n3il.action_size) if valid_moves[i] == 1]\n",
    "    print(\"valid moves: \", list_valid_moves)\n",
    "    \n",
    "    action = int(input(\"Please give a point: \"))\n",
    "    if action not in list_valid_moves:\n",
    "        print(\"This spot is occupied. Action is not valid.\")\n",
    "        continue\n",
    "    '''\n",
    "\n",
    "    n_of_collinear_triples = n3il.check_collinear(state, action)\n",
    "\n",
    "    if n_of_collinear_triples > 0:\n",
    "        # value, _ = n3il.get_value_and_terminated(state)\n",
    "        print(\"*******************************************************************\")\n",
    "        print(f\"Trial Terminated with {num_of_points} points. Final valid configuration:\")\n",
    "        print(state)\n",
    "        print(f\"The point you give causes {n_of_collinear_triples} triples of 3 points collinear:\")\n",
    "        print(n3il.get_next_state(state, action))\n",
    "\n",
    "        break\n",
    "    \n",
    "    num_of_points += 1\n",
    "    state = n3il.get_next_state(state, action)"
   ]
  },
  {
   "cell_type": "code",
   "execution_count": null,
   "id": "6518652f",
   "metadata": {},
   "outputs": [],
   "source": []
  }
 ],
 "metadata": {
  "kernelspec": {
   "display_name": "data_science",
   "language": "python",
   "name": "python3"
  },
  "language_info": {
   "codemirror_mode": {
    "name": "ipython",
    "version": 3
   },
   "file_extension": ".py",
   "mimetype": "text/x-python",
   "name": "python",
   "nbconvert_exporter": "python",
   "pygments_lexer": "ipython3",
   "version": "3.13.2"
  }
 },
 "nbformat": 4,
 "nbformat_minor": 5
}
