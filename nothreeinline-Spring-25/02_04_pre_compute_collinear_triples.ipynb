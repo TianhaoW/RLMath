{
 "cells": [
  {
   "cell_type": "markdown",
   "id": "5e70f87d",
   "metadata": {},
   "source": [
    "# Pre-compute"
   ]
  },
  {
   "cell_type": "code",
   "execution_count": 6,
   "id": "42823daa",
   "metadata": {},
   "outputs": [],
   "source": [
    "import numpy as np\n",
    "from numba import njit\n",
    "from math import gcd\n",
    "from tqdm import trange\n",
    "import matplotlib.pyplot as plt\n",
    "\n",
    "@njit(cache=True)\n",
    "def are_collinear(p1, p2, p3):\n",
    "    \"\"\"\n",
    "    Numba-accelerated check for collinearity of three points.\n",
    "    Points are given as 2-element arrays [x, y].\n",
    "    \"\"\"\n",
    "    x1, y1 = p1\n",
    "    x2, y2 = p2\n",
    "    x3, y3 = p3\n",
    "    return (y1 - y2) * (x1 - x3) == (y1 - y3) * (x1 - x2)\n",
    "\n",
    "\n",
    "def find_all_collinear_triples(n, show_progress=False):\n",
    "    \"\"\"\n",
    "    Enumerate all unordered collinear triples in an n x n grid.\n",
    "    Returns:\n",
    "      - triples: numpy array of shape (T, 3, 2) with coordinates [[x1,y1],[x2,y2],[x3,y3]]\n",
    "      - idx_map: dict mapping (x,y) -> index\n",
    "      - triple_set: set of index-triplets for O(1) membership testing\n",
    "\n",
    "    Note: Not JIT-compiled due to Python dict usage; numba acceleration here\n",
    "    offers limited benefit.\n",
    "    \"\"\"\n",
    "    pts = [(i, j) for i in range(n) for j in range(n)]\n",
    "    M = len(pts)\n",
    "    idx_map = {pt: idx for idx, pt in enumerate(pts)}\n",
    "\n",
    "    triples_idx = []\n",
    "    iterator = trange(M, desc='Scanning base points') if show_progress else range(M)\n",
    "    for p_idx in iterator:\n",
    "        p = pts[p_idx]\n",
    "        slopes = {}\n",
    "        for q_idx in range(p_idx + 1, M):\n",
    "            q = pts[q_idx]\n",
    "            dx = q[0] - p[0]\n",
    "            dy = q[1] - p[1]\n",
    "            # Normalize direction vector\n",
    "            if dx == 0:\n",
    "                direction = (0, 1)\n",
    "            elif dy == 0:\n",
    "                direction = (1, 0)\n",
    "            else:\n",
    "                g = gcd(dx, dy)\n",
    "                dxn, dyn = dx // g, dy // g\n",
    "                if dxn < 0:\n",
    "                    dxn, dyn = -dxn, -dyn\n",
    "                direction = (dxn, dyn)\n",
    "            slopes.setdefault(direction, []).append(q_idx)\n",
    "\n",
    "        for q_list in slopes.values():\n",
    "            L = len(q_list)\n",
    "            if L >= 2:\n",
    "                for i in range(L - 1):\n",
    "                    for j in range(i + 1, L):\n",
    "                        triples_idx.append((p_idx, q_list[i], q_list[j]))\n",
    "\n",
    "    # Convert index triples to coordinate array\n",
    "    T = len(triples_idx)\n",
    "    triples = np.zeros((T, 3, 2), dtype=np.int64)\n",
    "    for i, (i1, i2, i3) in enumerate(triples_idx):\n",
    "        triples[i, 0] = pts[i1]\n",
    "        triples[i, 1] = pts[i2]\n",
    "        triples[i, 2] = pts[i3]\n",
    "\n",
    "    # Build a set of sorted index-triplets for fast membership tests\n",
    "    triple_set = set(triples_idx)\n",
    "    return triples, idx_map, triple_set\n",
    "\n",
    "\n",
    "def query_triple(idx_map, triple_set, p1, p2, p3, n):\n",
    "    \"\"\"\n",
    "    Query whether points p1,p2,p3 are:\n",
    "      - 'yes' if they are a known collinear triple\n",
    "      - 'no'  if they lie within the grid but are not collinear\n",
    "      - 'not found' if any point falls outside the n x n grid\n",
    "    \"\"\"\n",
    "    pts = [p1, p2, p3]\n",
    "    # Check bounds\n",
    "    for p in pts:\n",
    "        x, y = p\n",
    "        if not (0 <= x < n and 0 <= y < n):\n",
    "            return 'not found'\n",
    "    # Map to indices and sort\n",
    "    try:\n",
    "        idxs = sorted(idx_map[(p[0], p[1])] for p in pts)\n",
    "    except KeyError:\n",
    "        return 'not found'\n",
    "    triple_key = tuple(idxs)\n",
    "    if triple_key in triple_set:\n",
    "        return 'yes'\n",
    "    # Check collinearity fallback\n",
    "    if are_collinear(np.array(p1), np.array(p2), np.array(p3)):\n",
    "        return 'no'\n",
    "    return 'no'\n",
    "\n",
    "\n",
    "def plot_grid_and_query(p1, p2, p3, n, result):\n",
    "    \"\"\"\n",
    "    Plot the n x n grid, highlight the three query points, and draw the line if collinear.\n",
    "    \"\"\"\n",
    "    plt.figure(figsize=(max(6, n/10), max(6, n/10)))\n",
    "    # Plot all grid points\n",
    "    xs, ys = np.meshgrid(np.arange(n), np.arange(n))\n",
    "    plt.scatter(xs.flatten(), ys.flatten(), s=10, alpha=0.3)\n",
    "    # Highlight query points\n",
    "    pa, pb, pc = p1, p2, p3\n",
    "    plt.scatter([pa[0], pb[0], pc[0]], [pa[1], pb[1], pc[1]], s=50, c='red')\n",
    "    if result == 'yes':\n",
    "        # draw line through first two points\n",
    "        if pa[0] == pb[0]:\n",
    "            plt.axvline(pa[0], color='blue')\n",
    "        else:\n",
    "            m = (pb[1] - pa[1]) / (pb[0] - pa[0])\n",
    "            b = pa[1] - m * pa[0]\n",
    "            x_line = np.linspace(0, n-1, 200)\n",
    "            y_line = m * x_line + b\n",
    "            plt.plot(x_line, y_line, color='blue')\n",
    "        plt.title('Collinear: Yes')\n",
    "    elif result == 'no':\n",
    "        plt.title('Collinear: No')\n",
    "    else:\n",
    "        plt.title('Points Out of Range')\n",
    "    plt.xlim(-1, n)\n",
    "    plt.ylim(-1, n)\n",
    "    plt.gca().set_aspect('equal', 'box')\n",
    "    plt.show()"
   ]
  },
  {
   "cell_type": "code",
   "execution_count": null,
   "id": "ba8e5b72",
   "metadata": {},
   "outputs": [
    {
     "name": "stderr",
     "output_type": "stream",
     "text": [
      "Scanning base points:   0%|          | 0/10000 [00:00<?, ?it/s]"
     ]
    },
    {
     "name": "stderr",
     "output_type": "stream",
     "text": [
      "Scanning base points: 100%|██████████| 10000/10000 [09:55<00:00, 16.78it/s]\n"
     ]
    }
   ],
   "source": [
    "n = 100\n",
    "# Find all triples with progress bar\n",
    "triples, idx_map, triple_set = find_all_collinear_triples(n, show_progress=True)\n",
    "print(f'Found {triples.shape[0]} collinear triples in a {n}x{n} grid.')\n",
    "\n",
    "# Example query and plot\n",
    "p1, p2, p3 = (0, 0), (25, 25), (49, 49)\n",
    "res = query_triple(idx_map, triple_set, p1, p2, p3, n)\n",
    "print(f'Query result: {res}')\n",
    "plot_grid_and_query(p1, p2, p3, n, res)"
   ]
  },
  {
   "cell_type": "code",
   "execution_count": 9,
   "id": "d73eab0c",
   "metadata": {},
   "outputs": [
    {
     "name": "stdout",
     "output_type": "stream",
     "text": [
      "Query result: not found\n"
     ]
    },
    {
     "data": {
      "image/png": "[encoded data removed]",
      "text/plain": [
       "<Figure size 600x600 with 1 Axes>"
      ]
     },
     "metadata": {},
     "output_type": "display_data"
    }
   ],
   "source": [
    "# Example query and plot\n",
    "p1, p2, p3 = (0, 0), (25, 25), (50, 49)\n",
    "res = query_triple(idx_map, triple_set, p1, p2, p3, n)\n",
    "print(f'Query result: {res}')\n",
    "plot_grid_and_query(p1, p2, p3, n, res)"
   ]
  },
  {
   "cell_type": "code",
   "execution_count": null,
   "id": "8bab9d68",
   "metadata": {},
   "outputs": [],
   "source": []
  }
 ],
 "metadata": {
  "kernelspec": {
   "display_name": "base",
   "language": "python",
   "name": "python3"
  },
  "language_info": {
   "codemirror_mode": {
    "name": "ipython",
    "version": 3
   },
   "file_extension": ".py",
   "mimetype": "text/x-python",
   "name": "python",
   "nbconvert_exporter": "python",
   "pygments_lexer": "ipython3",
   "version": "3.10.9"
  }
 },
 "nbformat": 4,
 "nbformat_minor": 5
}
