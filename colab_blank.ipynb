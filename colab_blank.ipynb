{
 "cells": [
  {
   "metadata": {},
   "cell_type": "markdown",
   "source": "### Step 1: Run the following cell to download the source code, and set up the environment",
   "id": "41f09d8ef68d7a4"
  },
  {
   "cell_type": "code",
   "execution_count": null,
   "id": "initial_id",
   "metadata": {
    "collapsed": true
   },
   "outputs": [],
   "source": [
    "!git clone https://github.com/TianhaoW/RLMath\n",
    "!cd RLMath\n",
    "\n",
    "import sys\n",
    "sys.path.append('/content/RLMath')"
   ]
  },
  {
   "metadata": {},
   "cell_type": "markdown",
   "source": "### Step 2: Start your code in the following cells",
   "id": "c8f6ebc0ad2d874"
  },
  {
   "metadata": {},
   "cell_type": "code",
   "outputs": [],
   "execution_count": null,
   "source": "",
   "id": "a1e4b685f29c657c"
  }
 ],
 "metadata": {
  "kernelspec": {
   "display_name": "Python 3",
   "language": "python",
   "name": "python3"
  },
  "language_info": {
   "codemirror_mode": {
    "name": "ipython",
    "version": 2
   },
   "file_extension": ".py",
   "mimetype": "text/x-python",
   "name": "python",
   "nbconvert_exporter": "python",
   "pygments_lexer": "ipython2",
   "version": "2.7.6"
  }
 },
 "nbformat": 4,
 "nbformat_minor": 5
}
